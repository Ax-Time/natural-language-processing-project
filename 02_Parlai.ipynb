{
 "cells": [
  {
   "attachments": {},
   "cell_type": "markdown",
   "metadata": {},
   "source": [
    "In this notebook we'll explore all the different models of the Parl AI project wizard of wikipedia"
   ]
  },
  {
   "cell_type": "code",
   "execution_count": 2,
   "metadata": {},
   "outputs": [],
   "source": [
    "import yaml\n",
    "from typing import Dict\n",
    "\n",
    "from parlai.core.agents import create_agent\n",
    "from parlai.agents.image_seq2seq.image_seq2seq import ImageSeq2seqAgent\n",
    "from parlai.scripts.interactive import setup_args"
   ]
  },
  {
   "cell_type": "code",
   "execution_count": 3,
   "metadata": {},
   "outputs": [],
   "source": [
    "models = {\n",
    "    'end2end': 'zoo:wizard_of_wikipedia/end2end_generator/model',\n",
    "    'full_dialogue': 'zoo:wizard_of_wikipedia/full_dialogue_retrieval_model/model',\n",
    "    'tf_idf': 'zoo:wikipedia_full/tfidf_retriever/model',\n",
    "    'knolwedge_retriever': 'zoo:wizard_of_wikipedia/knowledge_retriever/model',\n",
    "}"
   ]
  },
  {
   "attachments": {},
   "cell_type": "markdown",
   "metadata": {},
   "source": [
    "## Knowledge Retriever"
   ]
  },
  {
   "cell_type": "code",
   "execution_count": 63,
   "metadata": {},
   "outputs": [
    {
     "name": "stdout",
     "output_type": "stream",
     "text": [
      "19:22:21 | \u001b[33mOverriding opt[\"model_file\"] to /Users/gianmarcodonofrio/miniconda/envs/nlp-project/lib/python3.11/site-packages/data/models/wizard_of_wikipedia/knowledge_retriever/model (previously: /checkpoint/edinan/20191119/wizard_doc_reader/lr=1e-05_lr-scheduler-patience=3_lr-scheduler-decay=0.9_warmupupdates=2000/model)\u001b[0m\n",
      "19:22:21 | loading dictionary from /Users/gianmarcodonofrio/miniconda/envs/nlp-project/lib/python3.11/site-packages/data/models/wizard_of_wikipedia/knowledge_retriever/model.dict\n",
      "19:22:21 | num words = 54944\n",
      "19:22:21 | Biencoder: full interactive mode on.\n",
      "19:22:21 | Setting fixed_candidates path to: /Users/gianmarcodonofrio/miniconda/envs/nlp-project/lib/python3.11/site-packages/data/models/wizard_of_wikipedia/knowledge_retriever/model.cands-wizard_of_wikipedia:docreader.cands\n",
      "19:22:24 | Total parameters: 256,081,920 (256,081,920 trainable)\n",
      "19:22:24 | Loading existing model parameters from /Users/gianmarcodonofrio/miniconda/envs/nlp-project/lib/python3.11/site-packages/data/models/wizard_of_wikipedia/knowledge_retriever/model\n",
      "19:22:26 | Loading fixed candidate set from /Users/gianmarcodonofrio/miniconda/envs/nlp-project/lib/python3.11/site-packages/data/models/wizard_of_wikipedia/knowledge_retriever/model.cands-wizard_of_wikipedia:docreader.cands\n",
      "19:22:26 | Loading fixed candidate set vectors from /Users/gianmarcodonofrio/miniconda/envs/nlp-project/lib/python3.11/site-packages/data/models/wizard_of_wikipedia/knowledge_retriever/model.model.cands-wizard_of_wikipedia:docreader.vecs\n",
      "19:22:26 | Loading fixed candidate set encodings from /Users/gianmarcodonofrio/miniconda/envs/nlp-project/lib/python3.11/site-packages/data/models/wizard_of_wikipedia/knowledge_retriever/model.model.cands-wizard_of_wikipedia:docreader.encs\n"
     ]
    }
   ],
   "source": [
    "parser = setup_args()\n",
    "parser.set_params(model_file=models['knolwedge_retriever'])\n",
    "opt = parser.parse_kwargs()\n",
    "parlai_agent = create_agent(opt, requireModelExists=True)"
   ]
  },
  {
   "cell_type": "code",
   "execution_count": 76,
   "metadata": {},
   "outputs": [
    {
     "data": {
      "text/plain": [
       "{'text': 'Flying',\n",
       " 'episode_done': True,\n",
       " 'full_text': 'Flying',\n",
       " 'text_vec': tensor([   1, 2146,    1]),\n",
       " 'full_text_vec': [2146],\n",
       " 'context_original_length': 1,\n",
       " 'context_truncate_rate': False,\n",
       " 'context_truncated_length': 0,\n",
       " 'added_start_end_tokens': True}"
      ]
     },
     "execution_count": 76,
     "metadata": {},
     "output_type": "execute_result"
    }
   ],
   "source": [
    "parlai_agent.observe({'text': 'Flying', 'episode_done': True})"
   ]
  },
  {
   "cell_type": "code",
   "execution_count": 77,
   "metadata": {},
   "outputs": [
    {
     "data": {
      "text/plain": [
       "'An airplane or aeroplane (informally plane) is a powered, fixed-wing aircraft that is propelled forward by thrust from a jet engine or propeller.'"
      ]
     },
     "execution_count": 77,
     "metadata": {},
     "output_type": "execute_result"
    }
   ],
   "source": [
    "parlai_agent.act()['text']"
   ]
  },
  {
   "attachments": {},
   "cell_type": "markdown",
   "metadata": {},
   "source": [
    "## End2End"
   ]
  },
  {
   "cell_type": "code",
   "execution_count": 37,
   "metadata": {},
   "outputs": [
    {
     "name": "stdout",
     "output_type": "stream",
     "text": [
      "19:10:52 | \u001b[33mOverriding opt[\"model_file\"] to /Users/gianmarcodonofrio/miniconda/envs/nlp-project/lib/python3.11/site-packages/data/models/wizard_of_wikipedia/end2end_generator/model (previously: /tmp/wizard_endtoend_model)\u001b[0m\n",
      "19:10:52 | \u001b[33mOld model inference method inferred as greedy\u001b[0m\n",
      "19:10:52 | \u001b[33mLoading model with `--beam-block-full-context false`\u001b[0m\n",
      "19:10:52 | loading dictionary from /Users/gianmarcodonofrio/miniconda/envs/nlp-project/lib/python3.11/site-packages/data/models/wizard_of_wikipedia/end2end_generator/model.dict\n",
      "19:10:52 | num words = 34883\n",
      "19:10:52 | EndToEnd: full interactive mode on.\n",
      "19:10:52 | Total parameters: 15,585,024 (15,519,488 trainable)\n",
      "19:10:52 | Loading existing model params from /Users/gianmarcodonofrio/miniconda/envs/nlp-project/lib/python3.11/site-packages/data/models/wizard_of_wikipedia/end2end_generator/model\n"
     ]
    }
   ],
   "source": [
    "parser = setup_args()\n",
    "parser.set_params(model_file=models['end2end'])\n",
    "opt = parser.parse_kwargs()\n",
    "parlai_agent = create_agent(opt, requireModelExists=True)"
   ]
  },
  {
   "cell_type": "code",
   "execution_count": 38,
   "metadata": {},
   "outputs": [
    {
     "data": {
      "text/plain": [
       "{'text': 'Gardening',\n",
       " 'episode_done': False,\n",
       " 'full_text': 'Gardening',\n",
       " 'text_vec': tensor([2450]),\n",
       " 'full_text_vec': [2450],\n",
       " 'context_original_length': 1,\n",
       " 'context_truncate_rate': False,\n",
       " 'context_truncated_length': 0}"
      ]
     },
     "execution_count": 38,
     "metadata": {},
     "output_type": "execute_result"
    }
   ],
   "source": [
    "parlai_agent.observe({'text': 'Gardening', 'episode_done': False})"
   ]
  },
  {
   "cell_type": "code",
   "execution_count": 39,
   "metadata": {},
   "outputs": [
    {
     "data": {
      "text/plain": [
       "'i love to shop , i love to shop at a small container , what about you ?'"
      ]
     },
     "execution_count": 39,
     "metadata": {},
     "output_type": "execute_result"
    }
   ],
   "source": [
    "parlai_agent.act()['text']"
   ]
  },
  {
   "attachments": {},
   "cell_type": "markdown",
   "metadata": {},
   "source": [
    "## Full dialogue"
   ]
  },
  {
   "cell_type": "code",
   "execution_count": 11,
   "metadata": {},
   "outputs": [
    {
     "name": "stdout",
     "output_type": "stream",
     "text": [
      "20:02:46 | \u001b[33mOverriding opt[\"task\"] to wizard_of_wikipedia (previously: internal:wizard_of_perzona:WizardDialogKnowledge,squad:sentence)\u001b[0m\n",
      "20:02:46 | \u001b[33mOverriding opt[\"model\"] to projects:wizard_of_wikipedia:wizard_transformer_ranker (previously: internal:transformer_ranker)\u001b[0m\n",
      "20:02:46 | \u001b[33mOverriding opt[\"model_file\"] to /Users/gianmarcodonofrio/miniconda/envs/nlp-project/lib/python3.11/site-packages/data/models/wizard_of_wikipedia/full_dialogue_retrieval_model/model (previously: /checkpoint/edinan/20180908/transformer_wizard_response_finetune_squad_NEW/learn-embeddings=False/model)\u001b[0m\n",
      "20:02:46 | \u001b[33mOverriding opt[\"datatype\"] to test (previously: train)\u001b[0m\n",
      "20:02:46 | loading dictionary from /Users/gianmarcodonofrio/miniconda/envs/nlp-project/lib/python3.11/site-packages/data/models/wizard_of_wikipedia/full_dialogue_retrieval_model/model.dict\n",
      "20:02:46 | num words = 250004\n",
      "20:02:46 | WizardTransformerRanker: full interactive mode on.\n",
      "20:02:46 | Setting fixed_candidates path to: /Users/gianmarcodonofrio/miniconda/envs/nlp-project/lib/python3.11/site-packages/data/models/wizard_of_wikipedia/full_dialogue_retrieval_model/model.cands-wizard_of_wikipedia.cands\n",
      "20:02:48 | Total parameters: 84,272,400 (8,671,200 trainable)\n",
      "20:02:48 | Loading existing model parameters from /Users/gianmarcodonofrio/miniconda/envs/nlp-project/lib/python3.11/site-packages/data/models/wizard_of_wikipedia/full_dialogue_retrieval_model/model\n",
      "20:02:49 | Loading fixed candidate set from /Users/gianmarcodonofrio/miniconda/envs/nlp-project/lib/python3.11/site-packages/data/models/wizard_of_wikipedia/full_dialogue_retrieval_model/model.cands-wizard_of_wikipedia.cands\n",
      "20:02:49 | Loading fixed candidate set vectors from /Users/gianmarcodonofrio/miniconda/envs/nlp-project/lib/python3.11/site-packages/data/models/wizard_of_wikipedia/full_dialogue_retrieval_model/model.model.cands-wizard_of_wikipedia.vecs\n",
      "20:02:49 | Loading fixed candidate set encodings from /Users/gianmarcodonofrio/miniconda/envs/nlp-project/lib/python3.11/site-packages/data/models/wizard_of_wikipedia/full_dialogue_retrieval_model/model.model.cands-wizard_of_wikipedia.encs\n"
     ]
    }
   ],
   "source": [
    "from projects.wizard_of_wikipedia.wizard_transformer_ranker.wizard_transformer_ranker import WizardTransformerRankerAgent\n",
    "parser = setup_args()\n",
    "WizardTransformerRankerAgent.add_cmdline_args(parser, partial_opt=None)\n",
    "parser.set_params(\n",
    "    task='wizard_of_wikipedia',\n",
    "    model='projects:wizard_of_wikipedia:wizard_transformer_ranker',\n",
    "    model_file='models:wizard_of_wikipedia/full_dialogue_retrieval_model/model',\n",
    "    datatype='test',\n",
    "    n_heads=6,\n",
    "    ffn_size=1200,\n",
    "    embeddings_scale=False,\n",
    "    delimiter=' __SOC__ ',\n",
    "    n_positions=1000,\n",
    "    legacy=True,\n",
    "    eval_candidates='fixed',\n",
    "    interactive_mode=True,\n",
    ")\n",
    "opt = parser.parse_kwargs()\n",
    "parlai_agent = create_agent(opt, requireModelExists=True)"
   ]
  },
  {
   "attachments": {},
   "cell_type": "markdown",
   "metadata": {},
   "source": [
    "### Ireland test"
   ]
  },
  {
   "cell_type": "code",
   "execution_count": 12,
   "metadata": {},
   "outputs": [
    {
     "data": {
      "text/plain": [
       "'Hi, have you ever been to Dublin? It is the capital and largest city in Ireland.'"
      ]
     },
     "execution_count": 12,
     "metadata": {},
     "output_type": "execute_result"
    }
   ],
   "source": [
    "parlai_agent.observe({'text': 'Ireland', 'episode_done': False})\n",
    "parlai_agent.act()['text']"
   ]
  },
  {
   "cell_type": "code",
   "execution_count": 13,
   "metadata": {},
   "outputs": [
    {
     "data": {
      "text/plain": [
       "\"Make sure to go to Dublin then! It's a 1000 year old city. Plus the Guinness Museum is there.\""
      ]
     },
     "execution_count": 13,
     "metadata": {},
     "output_type": "execute_result"
    }
   ],
   "source": [
    "parlai_agent.observe({'text': 'no, i haven\\'t but would love to', 'episode_done': False})\n",
    "parlai_agent.act()['text']"
   ]
  },
  {
   "cell_type": "code",
   "execution_count": 14,
   "metadata": {},
   "outputs": [
    {
     "data": {
      "text/plain": [
       "'Same here, or really anywhere in Ireland honestly. Dublin is the best choice though.'"
      ]
     },
     "execution_count": 14,
     "metadata": {},
     "output_type": "execute_result"
    }
   ],
   "source": [
    "parlai_agent.observe({'text': 'I’ve always found Ireland to be fascinating and would love to visit sometime', 'episode_done': False})\n",
    "parlai_agent.act()['text']"
   ]
  },
  {
   "attachments": {},
   "cell_type": "markdown",
   "metadata": {},
   "source": [
    "### Chatbot"
   ]
  },
  {
   "cell_type": "code",
   "execution_count": 79,
   "metadata": {},
   "outputs": [
    {
     "name": "stdout",
     "output_type": "stream",
     "text": [
      "The first e-books were typed in plain text format and published as text files; other formats were made available later.\n",
      "{'text': 'yes i like the physical fell and smell of a real book', 'episode_done': False, 'full_text': 'i do not know why, but I have never gotten into e-books\\nAn electronic book (or e-book) is a book publication made available in digital form, consisting of text, images, or both, readable on the flat-panel display of computers or other electronic devices.\\n[EXiT]\\nLOL, or lol, is an acronym for laugh(ing) out loud or lots of laughs, and a popular element of Internet slang.\\n[EXIT]]\\ni do not know why but i have never gotten into e-books\\nThe first e-books were typed in plain text format and published as text files; other formats were made available later.\\nyes i like the physical fell and smell of a real book', 'text_vec': tensor([    1,    14,    59,    48,    70,   129,     6,    45,    14,    49,\n",
      "          154,  2977,    88,   289,    23,  1089,     4,    50,  4013,   435,\n",
      "           40,    65,   289,    23,   435,    39,    24,    12,   435,  4122,\n",
      "          134,  1159,    13,  2563,   589,     6,  4750,    10,  2264,     6,\n",
      "         3802,     6,    65,   186,     6, 24808,    25,     7,  2524,    23,\n",
      "         5270,  3682,    10,  6329,    65,   111,  4013,  5035,     5,     4,\n",
      "         1039,  4850,  1030,     4,   706,   299,     6,    65,   706,   299,\n",
      "            6,    24,    50, 23049,    26,  2373,    40,   658,    39,    63,\n",
      "         3142,    65,  3815,    10,  9002,     6,     9,    12,  1078,  5000,\n",
      "           10,  2911, 22851,     5,     4,  1039,  4850,  1030,  1030,     4,\n",
      "           14,    59,    48,    70,   129,    45,    14,    49,   154,  2977,\n",
      "           88,   289,    23,  1089,     4,     7,    81,   289,    23,  1089,\n",
      "           53, 19139,    13,  4158,  2264,  3408,     9,   677,    29,  2264,\n",
      "         5002,   118,   111, 13313,    53,   134,  1159,   175,     5,     4,\n",
      "          142,    14,    71,     7,  1980,  1111,     9,  2568,    10,    12,\n",
      "          460,   435,     1]), 'full_text_vec': [14, 59, 48, 70, 129, 6, 45, 14, 49, 154, 2977, 88, 289, 23, 1089, 4, 50, 4013, 435, 40, 65, 289, 23, 435, 39, 24, 12, 435, 4122, 134, 1159, 13, 2563, 589, 6, 4750, 10, 2264, 6, 3802, 6, 65, 186, 6, 24808, 25, 7, 2524, 23, 5270, 3682, 10, 6329, 65, 111, 4013, 5035, 5, 4, 1039, 4850, 1030, 4, 706, 299, 6, 65, 706, 299, 6, 24, 50, 23049, 26, 2373, 40, 658, 39, 63, 3142, 65, 3815, 10, 9002, 6, 9, 12, 1078, 5000, 10, 2911, 22851, 5, 4, 1039, 4850, 1030, 1030, 4, 14, 59, 48, 70, 129, 45, 14, 49, 154, 2977, 88, 289, 23, 1089, 4, 7, 81, 289, 23, 1089, 53, 19139, 13, 4158, 2264, 3408, 9, 677, 29, 2264, 5002, 118, 111, 13313, 53, 134, 1159, 175, 5, 4, 142, 14, 71, 7, 1980, 1111, 9, 2568, 10, 12, 460, 435], 'context_original_length': 151, 'context_truncate_rate': False, 'context_truncated_length': 0, 'added_start_end_tokens': True}\n",
      "Although sometimes defined as \"an electronic version of a printed book\", some e-books exist without a printed equivalent.\n",
      "{'text': '[EXIT]', 'episode_done': False, 'full_text': 'i do not know why, but I have never gotten into e-books\\nAn electronic book (or e-book) is a book publication made available in digital form, consisting of text, images, or both, readable on the flat-panel display of computers or other electronic devices.\\n[EXiT]\\nLOL, or lol, is an acronym for laugh(ing) out loud or lots of laughs, and a popular element of Internet slang.\\n[EXIT]]\\ni do not know why but i have never gotten into e-books\\nThe first e-books were typed in plain text format and published as text files; other formats were made available later.\\nyes i like the physical fell and smell of a real book\\nAlthough sometimes defined as \"an electronic version of a printed book\", some e-books exist without a printed equivalent.\\n[EXIT]', 'text_vec': tensor([    1,    14,    59,    48,    70,   129,     6,    45,    14,    49,\n",
      "          154,  2977,    88,   289,    23,  1089,     4,    50,  4013,   435,\n",
      "           40,    65,   289,    23,   435,    39,    24,    12,   435,  4122,\n",
      "          134,  1159,    13,  2563,   589,     6,  4750,    10,  2264,     6,\n",
      "         3802,     6,    65,   186,     6, 24808,    25,     7,  2524,    23,\n",
      "         5270,  3682,    10,  6329,    65,   111,  4013,  5035,     5,     4,\n",
      "         1039,  4850,  1030,     4,   706,   299,     6,    65,   706,   299,\n",
      "            6,    24,    50, 23049,    26,  2373,    40,   658,    39,    63,\n",
      "         3142,    65,  3815,    10,  9002,     6,     9,    12,  1078,  5000,\n",
      "           10,  2911, 22851,     5,     4,  1039,  4850,  1030,  1030,     4,\n",
      "           14,    59,    48,    70,   129,    45,    14,    49,   154,  2977,\n",
      "           88,   289,    23,  1089,     4,     7,    81,   289,    23,  1089,\n",
      "           53, 19139,    13,  4158,  2264,  3408,     9,   677,    29,  2264,\n",
      "         5002,   118,   111, 13313,    53,   134,  1159,   175,     5,     4,\n",
      "          142,    14,    71,     7,  1980,  1111,     9,  2568,    10,    12,\n",
      "          460,   435,     4,   480,   828,  3202,    29,    16,    50,  4013,\n",
      "          944,    10,    12,  5407,   435,    16,     6,   110,   289,    23,\n",
      "         1089,  3068,   307,    12,  5407,  5250,     5,     4,  1039,  4850,\n",
      "         1030,     1]), 'full_text_vec': [14, 59, 48, 70, 129, 6, 45, 14, 49, 154, 2977, 88, 289, 23, 1089, 4, 50, 4013, 435, 40, 65, 289, 23, 435, 39, 24, 12, 435, 4122, 134, 1159, 13, 2563, 589, 6, 4750, 10, 2264, 6, 3802, 6, 65, 186, 6, 24808, 25, 7, 2524, 23, 5270, 3682, 10, 6329, 65, 111, 4013, 5035, 5, 4, 1039, 4850, 1030, 4, 706, 299, 6, 65, 706, 299, 6, 24, 50, 23049, 26, 2373, 40, 658, 39, 63, 3142, 65, 3815, 10, 9002, 6, 9, 12, 1078, 5000, 10, 2911, 22851, 5, 4, 1039, 4850, 1030, 1030, 4, 14, 59, 48, 70, 129, 45, 14, 49, 154, 2977, 88, 289, 23, 1089, 4, 7, 81, 289, 23, 1089, 53, 19139, 13, 4158, 2264, 3408, 9, 677, 29, 2264, 5002, 118, 111, 13313, 53, 134, 1159, 175, 5, 4, 142, 14, 71, 7, 1980, 1111, 9, 2568, 10, 12, 460, 435, 4, 480, 828, 3202, 29, 16, 50, 4013, 944, 10, 12, 5407, 435, 16, 6, 110, 289, 23, 1089, 3068, 307, 12, 5407, 5250, 5, 4, 1039, 4850, 1030], 'context_original_length': 180, 'context_truncate_rate': False, 'context_truncated_length': 0, 'added_start_end_tokens': True}\n"
     ]
    }
   ],
   "source": [
    "topic = input('Enter topic: ')\n",
    "message = input('Enter message: ')\n",
    "parlai_agent.observe({'text': message, 'topic': topic, 'episode_done': False})\n",
    "\n",
    "while True:\n",
    "    if message == '[EXIT]':\n",
    "        break\n",
    "    response = parlai_agent.act()\n",
    "    print(response['text'])\n",
    "    message = input('Enter message: ')\n",
    "    print(parlai_agent.observe({'text': message, 'episode_done': False}))\n"
   ]
  },
  {
   "cell_type": "code",
   "execution_count": 48,
   "metadata": {},
   "outputs": [
    {
     "data": {
      "text/plain": [
       "{'text': 'Artificial Intelligence',\n",
       " 'topic': 'Computer Science',\n",
       " 'episode_done': False,\n",
       " 'full_text': 'Artificial Intelligence',\n",
       " 'text_vec': tensor([250003,  39193,  16243]),\n",
       " 'full_text_vec': [39193, 16243],\n",
       " 'context_original_length': 2,\n",
       " 'context_truncate_rate': False,\n",
       " 'context_truncated_length': 0,\n",
       " 'memory_vecs': []}"
      ]
     },
     "execution_count": 48,
     "metadata": {},
     "output_type": "execute_result"
    }
   ],
   "source": [
    "parlai_agent.observe({'text': 'Artificial Intelligence','topic': 'Computer Science' ,'episode_done': False})"
   ]
  },
  {
   "cell_type": "code",
   "execution_count": 49,
   "metadata": {},
   "outputs": [
    {
     "data": {
      "text/plain": [
       "\"I'd ask you if I was really an A.I. (artificial intelligence.) all my life...\""
      ]
     },
     "execution_count": 49,
     "metadata": {},
     "output_type": "execute_result"
    }
   ],
   "source": [
    "parlai_agent.act()['text']"
   ]
  },
  {
   "cell_type": "code",
   "execution_count": 50,
   "metadata": {},
   "outputs": [
    {
     "data": {
      "text/plain": [
       "{'text': 'What are your favorite plants?',\n",
       " 'episode_done': False,\n",
       " 'full_text': \"Artificial Intelligence __SOC__ I'd ask you if I was really an A.I. (artificial intelligence.) all my life... __SOC__ What are your favorite plants?\",\n",
       " 'text_vec': tensor([250003,  39193,  16243, 250003,      5,      4,    132,    423,     12,\n",
       "             49,      5,     31,     83,     63,    206,      0,      5,      0,\n",
       "             26,   7624,   2986,      0,     23,     54,     39,    231,      0,\n",
       "              0,      0, 250003,    191,     33,     47,    616,   3307,     22]),\n",
       " 'full_text_vec': [39193,\n",
       "  16243,\n",
       "  250003,\n",
       "  5,\n",
       "  4,\n",
       "  132,\n",
       "  423,\n",
       "  12,\n",
       "  49,\n",
       "  5,\n",
       "  31,\n",
       "  83,\n",
       "  63,\n",
       "  206,\n",
       "  0,\n",
       "  5,\n",
       "  0,\n",
       "  26,\n",
       "  7624,\n",
       "  2986,\n",
       "  0,\n",
       "  23,\n",
       "  54,\n",
       "  39,\n",
       "  231,\n",
       "  0,\n",
       "  0,\n",
       "  0,\n",
       "  250003,\n",
       "  191,\n",
       "  33,\n",
       "  47,\n",
       "  616,\n",
       "  3307,\n",
       "  22],\n",
       " 'context_original_length': 35,\n",
       " 'context_truncate_rate': False,\n",
       " 'context_truncated_length': 0,\n",
       " 'memory_vecs': []}"
      ]
     },
     "execution_count": 50,
     "metadata": {},
     "output_type": "execute_result"
    }
   ],
   "source": [
    "parlai_agent.observe({'text': 'What are your favorite plants?', 'episode_done': False})"
   ]
  },
  {
   "cell_type": "code",
   "execution_count": 51,
   "metadata": {},
   "outputs": [
    {
     "data": {
      "text/plain": [
       "'All kinds but I am really interested in cultivated plant taxonomy. I like to see how all of the flowers are related.'"
      ]
     },
     "execution_count": 51,
     "metadata": {},
     "output_type": "execute_result"
    }
   ],
   "source": [
    "parlai_agent.act()['text']"
   ]
  },
  {
   "attachments": {},
   "cell_type": "markdown",
   "metadata": {},
   "source": [
    "## TF-IDF"
   ]
  },
  {
   "cell_type": "code",
   "execution_count": 88,
   "metadata": {},
   "outputs": [
    {
     "name": "stdout",
     "output_type": "stream",
     "text": [
      "19:32:10 | \u001b[33mOverriding opt[\"model_file\"] to /Users/gianmarcodonofrio/miniconda/envs/nlp-project/lib/python3.11/site-packages/data/models/wikipedia_full/tfidf_retriever/model (previously: wiki_full_notitle)\u001b[0m\n",
      "19:32:10 | Loading /Users/gianmarcodonofrio/miniconda/envs/nlp-project/lib/python3.11/site-packages/data/models/wikipedia_full/tfidf_retriever/model.tfidf\n"
     ]
    }
   ],
   "source": [
    "parser = setup_args()\n",
    "parser.set_params(model_file=models['tf_idf'])\n",
    "opt = parser.parse_kwargs()\n",
    "parlai_agent = create_agent(opt, requireModelExists=True)"
   ]
  },
  {
   "cell_type": "code",
   "execution_count": 89,
   "metadata": {},
   "outputs": [
    {
     "data": {
      "text/plain": [
       "{'text': 'Gardening'}"
      ]
     },
     "execution_count": 89,
     "metadata": {},
     "output_type": "execute_result"
    }
   ],
   "source": [
    "parlai_agent.observe({'text': 'Gardening'})"
   ]
  },
  {
   "cell_type": "code",
   "execution_count": 90,
   "metadata": {},
   "outputs": [
    {
     "name": "stdout",
     "output_type": "stream",
     "text": [
      "\n",
      "Gardening is the practice of growing and cultivating plants as part of horticulture. In gardens, ornamental plants are often grown for their flowers, foliage, or overall appearance; useful plants, such as root vegetables, leaf vegetables, fruits, and herbs, are grown for consumption, for use as dyes, or for medicinal or cosmetic use. Gardening is considered by many people to be a relaxing activity.\n",
      "\n",
      "Gardening ranges in scale from fruit orchards, to long boulevard plantings with one or more different types of shrubs, trees, and herbaceous plants, to residential yards including lawns and foundation plantings, to plants in large or small containers grown inside or outside. Gardening may be very specialized, with only one type of plant grown, or involve a large number of different plants in mixed plantings. It involves an active participation in the growing of plants, and tends to be labor-intensive, which differentiates it from farming or forestry.\n",
      "\n",
      "Forest gardening, a forest-based food production system, is the world's oldest form of gardening. Forest gardens originated in prehistoric times along jungle-clad river banks and in the wet foothills of monsoon regions. In the gradual process of families improving their immediate environment, useful tree and vine species were identified, protected and improved while undesirable species were eliminated. Eventually foreign species were also selected and incorporated into the gardens.\n",
      "\n",
      "After the emergence of the first civilizations, wealthy individuals began to create gardens for aesthetic purposes. Ancient Egyptian tomb paintings from the New Kingdom (around 1500 BC) provide some of the earliest physical evidence of ornamental horticulture and landscape design; they depict lotus ponds surrounded by symmetrical rows of acacias and palms. A notable example of ancient ornamental gardens were the Hanging Gardens of Babylon—one of the Seven Wonders of the Ancient World —while ancient Rome had dozens of gardens.\n",
      "\n",
      "Wealthy ancient Egyptians used gardens for providing shade. Egyptians associated trees and gardens with gods, believing that their deities were pleased by gardens. Gardens in ancient Egypt were often surrounded by walls with trees planted in rows. Among the most popular species planted were date palms, sycamores, fir trees, nut trees, and willows. These gardens were a sign of higher socioeconomic status. In addition, wealthy ancient Egyptians grew vineyards, as wine was a sign of the higher social classes. Roses, poppies, daisies and irises could all also be found in the gardens of the Egyptians.\n",
      "\n",
      "Assyria was also renowned for its beautiful gardens. These tended to be wide and large, some of them used for hunting game—rather like a game reserve today—and others as leisure gardens. Cypresses and palms were some of the most frequently planted types of trees.\n",
      "\n",
      "Ancient Roman gardens were laid out with hedges and vines and contained a wide variety of flowers—acanthus, cornflowers, crocus, cyclamen, hyacinth, iris, ivy, lavender, lilies, myrtle, narcissus, poppy, rosemary and violets—as well as statues and sculptures. Flower beds were popular in the courtyards of rich Romans.\n",
      "The Middle Age represented a period of decline in gardens for aesthetic purposes, with regard to gardening. After the fall of Rome, gardening was done for the purpose of growing medicinal herbs and/or decorating church altars. Monasteries carried on a tradition of garden design and intense horticultural techniques during the medieval period in Europe. \n",
      "Generally, monastic garden types consisted of kitchen gardens, infirmary gardens, cemetery orchards, cloister garths and vineyards. Individual monasteries might also have had a \"green court\", a plot of grass and trees where horses could graze, as well as a cellarer's garden or private gardens for obedientiaries, monks who held specific posts within the monastery.\n",
      "\n",
      "Islamic gardens were built after the model of Persian gardens and they were usually enclosed by walls and divided in 4 by watercourses. Commonly, the center of the garden would have a pool or pavilion. Specific to the Islamic gardens are the mosaics and glazed tiles used to decorate the rills and fountains that were built in these gardens.\n",
      "\n",
      "By the late 13th century, rich Europeans began to grow gardens for leisure and for medicinal herbs and vegetables. They surrounded the gardens by walls to protect them from animals and to provide seclusion. During the next two centuries, Europeans started planting lawns and raising flowerbeds and trellises of roses. Fruit trees were common in these gardens and also in some, there were turf seats. At the same time, the gardens in the monasteries were a place to grow flowers and medicinal herbs but they were also a space where the monks could enjoy nature and relax.\n",
      "\n",
      "The gardens in the 16th and 17th century were symmetric, proportioned and balanced with a more classical appearance. Most of these gardens were built around a central axis and they were divided into different parts by hedges. Commonly, gardens had flowerbeds laid out in squares and separated by gravel paths.\n",
      "\n",
      "Gardens in Renaissance were adorned with sculptures, topiary and fountains. In the 17th century, knot gardens became popular along with the hedge mazes. By this time, Europeans started planting new flowers such as tulips, marigolds and sunflowers.\n",
      "\n",
      "Cottage gardens, which emerged in Elizabethan times, appear to have originated as a local source for herbs and fruits. One theory is that they arose out of the Black Death of the 1340s, when the death of so many laborers made land available for small cottages with personal gardens. According to the late 19th-century legend of origin, these gardens were originally created by the workers that lived in the cottages of the villages, to provide them with food and herbs, with flowers planted among them for decoration. Farm workers were provided with cottages that had architectural quality set in a small garden—about an acre—where they could grow food and keep pigs and chickens.\n",
      "\n",
      "Authentic gardens of the yeoman cottager would have included a beehive and livestock, and frequently a pig and sty, along with a well. The peasant cottager of medieval times was more interested in meat than flowers, with herbs grown for medicinal use rather than for their beauty. By Elizabethan times there was more prosperity, and thus more room to grow flowers. Even the early cottage garden flowers typically had their practical use—violets were spread on the floor (for their pleasant scent and keeping out vermin); calendulas and primroses were both attractive and used in cooking. Others, such as sweet william and hollyhocks, were grown entirely for their beauty.\n",
      "\n",
      "In the 18th century, gardens were laid out more naturally, without any walls. This style of smooth undulating grass, which would run straight to the house, clumps, belts and scattering of trees and his serpentine lakes formed by invisibly damming small rivers, were a new style within the English landscape, a \"gardenless\" form of landscape gardening, which swept away almost all the remnants of previous formally patterned styles. The English garden usually included a lake, lawns set against groves of trees, and often contained shrubberies, grottoes, pavilions, bridges and follies such as mock temples, Gothic ruins, bridges, and other picturesque architecture, designed to recreate an idyllic pastoral landscape. This new style emerged in England in the early 18th century, and spread across Europe, replacing the more formal, symmetrical Garden à la française of the 17th century as the principal gardening style of Europe. The English garden presented an idealized view of nature. They were often inspired by paintings of landscapes by Claude Lorraine and Nicolas Poussin, and some were Influenced by the classic Chinese gardens of the East, which had recently been described by European travelers. The work of Lancelot 'Capability' Brown was particularly influential. Also, in 1804 the Horticultural Society was formed. Gardens of the 19th century contained plants such as the monkey puzzle or Chile pine. This is also the time when the so-called \"gardenesque\" style of gardens evolved. These gardens displayed a wide variety of flowers in a rather small space. Rock gardens increased in popularity in the 19th century.\n",
      "\n",
      "Residential gardening takes place near the home, in a space referred to as the garden. Although a garden typically is located on the land near a residence, it may also be located on a roof, in an atrium, on a balcony, in a windowbox, or on a patio or vivarium.\n",
      "\n",
      "Gardening also takes place in non-residential green areas, such as parks, public or semi-public gardens (botanical gardens or zoological gardens), amusement parks, along transportation corridors, and around tourist attractions and garden hotels. In these situations, a staff of gardeners or groundskeepers maintains the gardens.\n",
      "\n",
      "There is a wide range of features and accessories available in the market for both the professional gardener and the amateur to exercise their creativity. These are used to add decoration or functionality, and may be made from a wide range of materials such as copper, stone, wood, bamboo, stainless steel, clay, stained glass, concrete, or iron. Examples include trellis, arbors, statues, benches, water fountains, urns, bird baths and feeders, and garden lighting such as candle lanterns and oil lamps. The use of these items can be part of the expression of a gardener's gardening personality.\n",
      "\n",
      "Gardening departments and centers mainly sell plants, sundries, and garden accessories, but many have now begun stocking outdoor leisure products, such as spas, furniture, and barbecues. Many garden centers now include food halls, and sections for clothing, gifts, pets, and power tools. There are also a number of online garden centers that now deliver directly to customers' doors.\n",
      "\n",
      "Gardening for beauty is likely nearly as old as farming for food, however for most of history for the majority of people there was no real distinction since the need for food and other useful product trumped other concerns. Small-scale, subsistence agriculture (called hoe-farming) is largely indistinguishable from gardening. A patch of potatoes grown by a Peruvian peasant or an Irish smallholder for personal use could be described as either a garden or a farm. Gardening for average people evolved as a separate discipline, more concerned with aesthetics, recreation and leisure,\n",
      "under the influence of the pleasure gardens of the wealthy. Meanwhile, farming has evolved (in developed countries) in the direction of commercialization, economics of scale, and monocropping.\n",
      "\n",
      "In respect to its food-producing purpose, gardening is distinguished from farming chiefly by scale and intent. Farming occurs on a larger scale, and with the production of salable goods as a major motivation. Gardening happens on a smaller scale, primarily for pleasure and to produce goods for the gardener's own family or community. There is some overlap between the terms, particularly in that some moderate-sized vegetable growing concerns, often called market gardening, can fit in either category.\n",
      "\n",
      "The key distinction between gardening and farming is essentially one of scale; gardening can be a hobby or an income supplement, but farming is generally understood as a full-time or commercial activity, usually involving more land and quite different practices. One distinction is that gardening is labor-intensive and employs very little infrastructural capital, sometimes no more than a few tools, e.g. a spade, hoe, basket and watering can. By contrast, larger-scale farming often involves irrigation systems, chemical fertilizers and harvesters or at least ladders, e.g. to reach up into fruit trees. However, this distinction is becoming blurred with the increasing use of power tools in even small gardens.\n",
      "\n",
      "In part because of labor intensity and aesthetic motivations, gardening is very often much more productive per unit of land than farming. In the Soviet Union, half the food supply came from small peasants' garden plots on the huge government-run collective farms, although they were tiny patches of land. Some argue this as evidence of the superiority of capitalism, since the peasants could generally sell their produce. Others consider it to be evidence of a tragedy of the commons, since the large collective plots were often neglected, with fertilizers or water redirected to the private gardens.\n",
      "\n",
      "Monty Don has speculated on an atavistic connection between present-day gardeners and pre-modern peasantry.\n",
      "\n",
      "The term precision agriculture is sometimes used to describe gardening using intermediate technology (more than tools, less than harvesters), especially of organic varieties. Gardening is effectively scaled up to feed entire villages of over 100 people from specialized plots. A variant is the community garden which offers plots to urban dwellers; see further in allotment (gardening).\n",
      "\n",
      "Garden design is considered to be an art in most cultures, distinguished from gardening, which generally means \"garden maintenance\". Garden design can include different themes such as perennial, butterfly, wildlife, Japanese, water, tropical, or shade gardens. In Japan, Samurai and Zen monks were often required to build decorative gardens or practice related skills like flower arrangement known as \"ikebana\". In 18th-century Europe, country estates were refashioned by landscape gardeners into formal gardens or landscaped park lands, such as at Versailles, France, or Stowe, England. Today, landscape architects and garden designers continue to produce artistically creative designs for private garden spaces. In the USA, professional landscape designers are certified by the Association of Professional Landscape Designers.\n",
      "\n",
      "People can express their political or social views in gardens, intentionally or not. The lawn vs. garden issue is played out in urban planning as the debate over the \"land ethic\" that is to determine urban land use and whether hyper hygienist bylaws (e.g. weed control) should apply, or whether land should generally be allowed to exist in its natural wild state. In a famous Canadian Charter of Rights case, \"Sandra Bell vs. City of Toronto\", 1997, the right to cultivate all native species, even most varieties deemed noxious or allergenic, was upheld as part of the right of free expression.\n",
      "\n",
      "Community gardening comprises a wide variety of approaches to sharing land and gardens.\n",
      "\n",
      "People often surround their house and garden with a hedge. Common hedge plants are privet, hawthorn, beech, yew, leyland cypress, hemlock, arborvitae, barberry, box, holly, oleander, forsythia and lavender. The idea of open gardens without hedges may be distasteful to those who enjoy privacy.\n",
      "The Slow Food movement has sought in some countries to add an edible school yard and garden classrooms to schools, e.g. in Fergus, Ontario, where these were added to a public school to augment the kitchen classroom. Garden sharing, where urban landowners allow gardeners to grow on their property in exchange for a share of the harvest, is associated with the desire to control the quality of one's food, and reconnect with soil and community.\n",
      "\n",
      "In US and British usage, the production of ornamental plantings around buildings is called \"landscaping\", \"landscape maintenance\" or \"grounds keeping\", while international usage uses the term \"gardening\" for these same activities.\n",
      "\n",
      "Also gaining popularity is the concept of \"Green Gardening\" which involves growing plants using organic fertilizers and pesticides so that the gardening process - or the flowers and fruits produced thereby - doesn't adversely affect the environment or people's health in any manner.\n",
      "\n",
      "Garden pests are generally plants, fungi, or animals (frequently insects) that engage in activity that the gardener considers undesirable. A pest may crowd out desirable plants, disturb soil, stunt the growth of young seedlings, steal or damage fruit, or otherwise kill plants, hamper their growth, damage their appearance, or reduce the quality of the edible or ornamental portions of the plant. Aphids, spider mites, slugs, snails, ants, birds, and even cats are commonly considered to be garden pests.\n",
      "\n",
      "Because gardeners may have different goals, organisms considered \"garden pests\" vary from gardener to gardener. \"Tropaeolum speciosum\", for example, may be considered a desirable and ornamental garden plant, or it may be considered a pest if it seeds and starts to grow where it is not wanted. As another example, in lawns, moss can become dominant and be impossible to eradicate. In some lawns, lichens, especially very damp lawn lichens such as \"Peltigera lactucfolia\" and \"P. membranacea\", can become difficult to control and be considered pests.\n",
      "\n",
      "There are many ways by which unwanted pests are removed from a garden. The techniques vary depending on the pest, the gardener's goals, and the gardener's philosophy. For example, snails may be dealt with through the use of a chemical pesticide, an organic pesticide, hand-picking, barriers, or simply growing snail-resistant plants.\n",
      "\n",
      "Pest control is often done through the use of pesticides, which may be either organic or artificially synthesized. Pesticides may affect the ecology of a garden due to their effects on the populations of both target and non-target species. For example, unintended exposure to some neonicotinoid pesticides has been proposed as a factor in the recent decline in honey bee populations. A mole vibrator can deter mole activity in a garden.\n",
      "\n",
      "Other means of control include the removal of infected plants, using fertilizers and biostimulants to improve the health and vigour of plants so they better resist attack, practising crop rotation to prevent pest build-up, using companion planting, and practising good garden hygiene, such as disinfecting tools and clearing debris and weeds which may harbour pests.\n",
      "\n",
      "\n",
      "\n"
     ]
    }
   ],
   "source": [
    "print(parlai_agent.act()['text'])"
   ]
  }
 ],
 "metadata": {
  "kernelspec": {
   "display_name": "nlp-project",
   "language": "python",
   "name": "python3"
  },
  "language_info": {
   "codemirror_mode": {
    "name": "ipython",
    "version": 3
   },
   "file_extension": ".py",
   "mimetype": "text/x-python",
   "name": "python",
   "nbconvert_exporter": "python",
   "pygments_lexer": "ipython3",
   "version": "3.11.3"
  },
  "orig_nbformat": 4
 },
 "nbformat": 4,
 "nbformat_minor": 2
}
