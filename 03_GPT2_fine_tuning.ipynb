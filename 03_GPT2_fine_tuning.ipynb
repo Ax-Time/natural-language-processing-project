{
 "cells": [
  {
   "attachments": {},
   "cell_type": "markdown",
   "metadata": {},
   "source": [
    "In this notebook we tried to fine tuned a gpt2 model with the wow dataset"
   ]
  },
  {
   "attachments": {},
   "cell_type": "markdown",
   "metadata": {},
   "source": [
    "# GPT fine-tuning"
   ]
  },
  {
   "attachments": {},
   "cell_type": "markdown",
   "metadata": {},
   "source": [
    "We load the data for train, validation and test "
   ]
  },
  {
   "cell_type": "code",
   "execution_count": 2,
   "metadata": {},
   "outputs": [],
   "source": [
    "import json\n",
    "import torch\n",
    "\n",
    "# Base_directory\n",
    "base_dir = './wizard_of_wikipedia/'\n",
    "\n",
    "# Load the data\n",
    "with open(base_dir + 'train.json') as f:\n",
    "    train_data = json.load(f)\n",
    "with open(base_dir + 'valid_random_split.json') as f:\n",
    "    valid_data = json.load(f)\n",
    "with open(base_dir + 'test_random_split.json') as f:\n",
    "    test_data = json.load(f)"
   ]
  },
  {
   "cell_type": "code",
   "execution_count": 3,
   "metadata": {},
   "outputs": [
    {
     "data": {
      "text/plain": [
       "{'chosen_topic': 'Science fiction',\n",
       " 'persona': 'i enjoy movies about aliens invading the earth.',\n",
       " 'wizard_eval': 5,\n",
       " 'dialog': [{'speaker': '0_Wizard',\n",
       "   'text': \"I think science fiction is an amazing genre for anything. Future science, technology, time travel, FTL travel, they're all such interesting concepts.\",\n",
       "   'checked_sentence': {'chosen_Science_fiction_0': 'Science fiction (often shortened to SF or sci-fi) is a genre of speculative fiction, typically dealing with imaginative concepts such as futuristic science and technology, space travel, time travel, faster than light travel, parallel universes, and extraterrestrial life.'},\n",
       "   'checked_passage': {'chosen_topic_0_Science_fiction': 'Science fiction'},\n",
       "   'retrieved_passages': [{'Hyperspace (science fiction)': ['Hyperspace is a faster-than-light (FTL) method of traveling used in science fiction.',\n",
       "      'It is typically described as an alternative \"sub-region\" of space co-existing with our own universe which may be entered using an energy field or other device.',\n",
       "      'As seen in most fiction hyperspace is most succinctly described as a \"somewhere else\" within which the laws of general and special relativity decidedly do \"not\" apply – especially with respect to the speed of light being the cosmic speed limit.',\n",
       "      'Entering and exiting said \"elsewhere\" thus directly enables travel near or faster than the speed of light – almost universally with the aid of extremely advanced technology.']},\n",
       "    {'Science fiction': ['Science fiction (often shortened to SF or sci-fi) is a genre of speculative fiction, typically dealing with imaginative concepts such as futuristic science and technology, space travel, time travel, faster than light travel, parallel universes, and extraterrestrial life.',\n",
       "      'Science fiction often explores the potential consequences of scientific and other innovations, and has been called a \"literature of ideas\".',\n",
       "      'It usually avoids the supernatural, unlike the related genre of fantasy.',\n",
       "      'Historically, science-fiction stories have had a grounding in actual science, but now this is only expected of hard science fiction.']},\n",
       "    {'History of science fiction': ['The literary genre of science fiction is diverse, and its exact definition remains a contested question among both scholars and devotees.',\n",
       "      \"This lack of consensus is reflected in debates about the genre's history, particularly over determining its exact origins.\",\n",
       "      'There are two broad camps of thought, one that identifies the genre\\'s roots in early fantastical works such as the Sumerian \"Epic of Gilgamesh\" (earliest Sumerian text versions c. 2150–2000 BCE).',\n",
       "      'A second approach argues that science fiction only became possible sometime between the 17th and early 19th centuries, following the scientific revolution and major discoveries in astronomy, physics, and mathematics.']},\n",
       "    {'Science fiction film': ['Science fiction film (or sci-fi film) is a genre that uses speculative, fictional science-based depictions of phenomena that are not fully accepted by mainstream science, such as extraterrestrial lifeforms, alien worlds, extrasensory perception and time travel, along with futuristic elements such as spacecraft, robots, cyborgs, interstellar travel or other technologies.',\n",
       "      'Science fiction films have often been used to focus on political or social issues, and to explore philosophical issues like the human condition.',\n",
       "      'In many cases, tropes derived from written science fiction may be used by filmmakers ignorant of or at best indifferent to the standards of scientific plausibility and plot logic to which written science fiction is traditionally held.']},\n",
       "    {'Time travel': ['Time travel is the concept of movement between certain points in time, analogous to movement between different points in space by an object or a person, typically using a hypothetical device known as a time machine, in the form of a vehicle or of a portal connecting distant points in spacetime, either to an earlier time or to a later time, without the need for the time-traveling body to experience the intervening period in the usual sense.',\n",
       "      'Time travel is a widely-recognized concept in philosophy and fiction.',\n",
       "      'It was popularized by H. G. Wells\\' 1895 novel \"The Time Machine\", which moved the concept of time travel into the public imagination.']},\n",
       "    {'List of starships in Stargate': ['This is a list of fictional starships in the \"Stargate\" universe depicted through a series of television shows and three feature-length movies.',\n",
       "      'The Ancients are one of the most technologically advanced races in \"Stargate\", and this is reflected in their starships.',\n",
       "      'Duplicates of these ships are utilized by their nanite creations, the Asurans, as they also possess knowledge of Ancient technology.',\n",
       "      'The Puddle Jumper or Jumper is a small spacecraft used extensively in the \"Stargate Atlantis\" series.',\n",
       "      'Puddle Jumpers were created by the Ancients and most exist within the city built by the Ancients known as Atlantis.']},\n",
       "    {'History of US science fiction and fantasy magazines to 1950': ['Science fiction and fantasy magazines began to be published in the US in the 1920s.',\n",
       "      'Stories with science fiction themes had been appearing for decades in pulp magazines such as \"Argosy\", but there were no magazines that specialized in a single genre until 1915, when Street & Smith, one of the major pulp publishers, brought out \"Detective Story Magazine\".',\n",
       "      'The first magazine to focus solely on fantasy and horror was \"Weird Tales\", which was launched in 1923, and established itself as the leading weird fiction magazine over the next two decades; writers such as H.P.',\n",
       "      'Lovecraft, Clark Ashton Smith and Robert E. Howard became regular contributors.']}],\n",
       "   'retrieved_topics': ['Hyperspace (science fiction)',\n",
       "    'Science fiction',\n",
       "    'History of science fiction',\n",
       "    'Science fiction film',\n",
       "    'Time travel',\n",
       "    'List of starships in Stargate',\n",
       "    'History of US science fiction and fantasy magazines to 1950']},\n",
       "  {'speaker': '1_Apprentice',\n",
       "   'text': \"I'm a huge fan of science fiction myself! \",\n",
       "   'retrieved_passages': [{'Science fiction': ['Science fiction (often shortened to SF or sci-fi) is a genre of speculative fiction, typically dealing with imaginative concepts such as futuristic science and technology, space travel, time travel, faster than light travel, parallel universes, and extraterrestrial life.',\n",
       "      'Science fiction often explores the potential consequences of scientific and other innovations, and has been called a \"literature of ideas\".',\n",
       "      'It usually avoids the supernatural, unlike the related genre of fantasy.',\n",
       "      'Historically, science-fiction stories have had a grounding in actual science, but now this is only expected of hard science fiction.']},\n",
       "    {'History of science fiction': ['The literary genre of science fiction is diverse, and its exact definition remains a contested question among both scholars and devotees.',\n",
       "      \"This lack of consensus is reflected in debates about the genre's history, particularly over determining its exact origins.\",\n",
       "      'There are two broad camps of thought, one that identifies the genre\\'s roots in early fantastical works such as the Sumerian \"Epic of Gilgamesh\" (earliest Sumerian text versions c. 2150–2000 BCE).',\n",
       "      'A second approach argues that science fiction only became possible sometime between the 17th and early 19th centuries, following the scientific revolution and major discoveries in astronomy, physics, and mathematics.']},\n",
       "    {'Isaac Asimov': ['Isaac Asimov (; born Isaak Ozimov; January 2, 1920\\xa0– April 6, 1992) was an American writer and professor of biochemistry at Boston University.',\n",
       "      'He was known for his works of science fiction and popular science.',\n",
       "      'Asimov was a prolific writer, and wrote or edited more than 500 books and an estimated 90,000 letters and postcards.',\n",
       "      'His books have been published in 9 of the 10 major categories of the Dewey Decimal Classification.',\n",
       "      'Asimov wrote hard science fiction and, along with Robert A. Heinlein and Arthur C. Clarke, he was considered one of the \"Big Three\" science fiction writers during his lifetime.']},\n",
       "    {'U.S. television science fiction': ['U.S. television science fiction is a popular genre of television in the United States that has produced many of the best-known and most popular science fiction shows in the world.',\n",
       "      'Most famous of all, and one of the most influential science-fiction series in history, is the iconic \"\" and its various spin-off shows, which comprise the Star Trek franchise.',\n",
       "      'Other hugely influential programs have included the 1960s anthology series \"The Twilight Zone,\" the internationally successful \"The X-Files,\" and a wide variety of television movies and continuing series for more than half a century.',\n",
       "      'The first popular science-fiction program on American television was the children\\'s adventure serial \"Captain Video and His Video Rangers\", which ran from June 1949 to April 1955.']},\n",
       "    {'History of US science fiction and fantasy magazines to 1950': ['Science fiction and fantasy magazines began to be published in the US in the 1920s.',\n",
       "      'Stories with science fiction themes had been appearing for decades in pulp magazines such as \"Argosy\", but there were no magazines that specialized in a single genre until 1915, when Street & Smith, one of the major pulp publishers, brought out \"Detective Story Magazine\".',\n",
       "      'The first magazine to focus solely on fantasy and horror was \"Weird Tales\", which was launched in 1923, and established itself as the leading weird fiction magazine over the next two decades; writers such as H.P.',\n",
       "      'Lovecraft, Clark Ashton Smith and Robert E. Howard became regular contributors.']},\n",
       "    {'Starstruck (comics)': ['Starstruck is an American comic book series.',\n",
       "      'It was inspired by the off-Broadway stage play with the same name written by Elaine Lee, with contributions from Susan Norfleet Lee and Dale Place.',\n",
       "      'The \"Starstruck\" creator-owned illustrated science fiction serial has been produced at various intervals since 1982 by writer Lee and artist Michael Wm.',\n",
       "      'Kaluta; their primary collaborators are colorist Lee Moyer and letterer Todd Klein.',\n",
       "      'The series, epic in scope, has been carried across multiple comic companies, but primarily by Epic Comics, Dark Horse Comics, and IDW Publishing.',\n",
       "      'It was collected in a revised and recolored hardcover book form as \"Starstruck Deluxe Edition\" in 2011.']},\n",
       "    {'LGBT themes in speculative fiction': ['LGBT themes in speculative fiction refer to the incorporation of lesbian, gay, bisexual, or transgender (LGBT) themes into science fiction, fantasy, horror fiction and related genres.',\n",
       "      'Such elements may include an LGBT character as the protagonist or a major character, or explorations of sexuality or gender that deviate from the hetero-normative.',\n",
       "      'Science fiction and fantasy have traditionally been puritanical genres aimed at a male readership, and can be more restricted than non-genre literature by their conventions of characterisation and the effect that these conventions have on depictions of sexuality and gender.']}],\n",
       "   'retrieved_topics': ['Science fiction',\n",
       "    'History of science fiction',\n",
       "    'Isaac Asimov',\n",
       "    'U.S. television science fiction',\n",
       "    'History of US science fiction and fantasy magazines to 1950',\n",
       "    'Starstruck (comics)',\n",
       "    'LGBT themes in speculative fiction']},\n",
       "  {'speaker': '0_Wizard',\n",
       "   'text': 'Awesome! I really love how sci-fi storytellers focus on political/social/philosophical issues that would still be around even in the future. Makes them relatable.',\n",
       "   'checked_sentence': {'self_Science_fiction_film_1': 'Science fiction films have often been used to focus on political or social issues, and to explore philosophical issues like the human condition.'},\n",
       "   'checked_passage': {'self_3_Science_fiction_film': 'Science fiction film'},\n",
       "   'retrieved_passages': [{'Oddworld Inhabitants': ['Oddworld Inhabitants Inc. is an American video game developer founded in 1994 by special-effects and computer-animation veterans Sherry McKenna and Lorne Lanning.',\n",
       "      'The company is primarily known for the incomplete \"Oddworld Quintology\", a series of award-winning video games about the fictional planet of Oddworld and its native creatures.',\n",
       "      'The series debuted with \"\" in 1997 and continued with \"\" in 2001 but the studio has also developed standalone titles \"\" in 1998 and \"\" in 2005.',\n",
       "      'Oddworld Inhabitants took a break from game development for a time following the release of \"Stranger\\'s Wrath\", even though it had already begun preliminary work on its next Oddworld title, \"The Brutal Ballad of Fangus Klot\".']},\n",
       "    {'Legalism (Chinese philosophy)': [\"Fajia () or Legalism is one of Sima Tan's six classical schools of thought in Chinese philosophy.\",\n",
       "      'Roughly meaning \"house of Fa\" (administrative \"methods\" or \"standards\"), the \"school\" (term) represents some several branches of realistic statesmen or \"men of methods\" (fashu zishi) foundational for the traditional Chinese bureaucratic empire.',\n",
       "      'Compared with Machiavelli, it has often been considered in the Western world as akin to the Realpolitikal thought of ancient China.',\n",
       "      'Largely ignoring morality or questions on how a society ideally should function, they examined contemporary government; emphasizing a realistic consolidation of the wealth and power of autocrat and state, with the goal of achieving increased order, security and stability.']},\n",
       "    {'Sci-Fi on the Rock': [\"Sci-Fi on the Rock is an annual science fiction, fantasy and horror festival held in St. John's, Newfoundland, Canada.\",\n",
       "      'It was founded by Darren Hann and Melanie Collins in mid-to-late 2006, and held its first festival in 2007.',\n",
       "      \"It began in 2007 at the Hotel Mount Pearl, moving on to be housed in the Holiday Inn in St. John's as of April 2008.\",\n",
       "      'The convention made another move in 2016 to the Sheraton Hotel Newfoundland.',\n",
       "      'The festival has had a number a notable guests both from Newfoundland and beyond, including science-fiction author Kenneth Tam (\"Defense Command\", \"His Majesty\\'s New World\"), comic-book artist Paul Tucker (\"The Underworld Railroad\", \"Google John Smith\"), actor Brian Downey (\"Lexx\", \"Millennium\"), actor Jeremy Bulloch (\"The Empire Strikes Back\", \"Octopussy\"), author William Meikle (\"The Midnight Eye\" series), horror author Matthew LeDrew (\"Black Womb\", \"Roulette\") and author Shannon Patrick Sullivan (\"The Dying Days\").']},\n",
       "    {'Starstruck (comics)': ['Starstruck is an American comic book series.',\n",
       "      'It was inspired by the off-Broadway stage play with the same name written by Elaine Lee, with contributions from Susan Norfleet Lee and Dale Place.',\n",
       "      'The \"Starstruck\" creator-owned illustrated science fiction serial has been produced at various intervals since 1982 by writer Lee and artist Michael Wm.',\n",
       "      'Kaluta; their primary collaborators are colorist Lee Moyer and letterer Todd Klein.',\n",
       "      'The series, epic in scope, has been carried across multiple comic companies, but primarily by Epic Comics, Dark Horse Comics, and IDW Publishing.',\n",
       "      'It was collected in a revised and recolored hardcover book form as \"Starstruck Deluxe Edition\" in 2011.']},\n",
       "    {'The Spirit of the Age': ['The Spirit of the Age (full title \"The Spirit of the Age: Or, Contemporary Portraits\") is a collection of character sketches by the early 19th century English essayist, literary critic, and social commentator William Hazlitt, portraying 25 men, mostly British, whom he believed to represent significant trends in the thought, literature, and politics of his time.',\n",
       "      'The subjects include thinkers, social reformers, politicians, poets, essayists, and novelists, many of whom Hazlitt was personally acquainted with or had encountered.',\n",
       "      'Originally appearing in English periodicals, mostly \"The New Monthly Magazine\" in 1824, the essays were collected with several others written for the purpose and published in book form in 1825.']},\n",
       "    {'Science fiction film': ['Science fiction film (or sci-fi film) is a genre that uses speculative, fictional science-based depictions of phenomena that are not fully accepted by mainstream science, such as extraterrestrial lifeforms, alien worlds, extrasensory perception and time travel, along with futuristic elements such as spacecraft, robots, cyborgs, interstellar travel or other technologies.',\n",
       "      'Science fiction films have often been used to focus on political or social issues, and to explore philosophical issues like the human condition.',\n",
       "      'In many cases, tropes derived from written science fiction may be used by filmmakers ignorant of or at best indifferent to the standards of scientific plausibility and plot logic to which written science fiction is traditionally held.']},\n",
       "    {'Music of the Marvel Cinematic Universe': ['The music of the Marvel Cinematic Universe (MCU) is the film and television scores composed by various composers for the films and television series of that franchise.',\n",
       "      'Ramin Djawadi provided the first MCU music with his original score for \"Iron Man\" in 2008.',\n",
       "      'Alan Silvestri was the first composer to work on multiple MCU films after he transitioned from scoring \"\" (2011) to \"Marvel\\'s The Avengers\" (2012), while Brian Tyler was the first composer to reference the work of another MCU composer when he quoted Silvestri\\'s \"Captain America March\" in his score for \"\" (2013).',\n",
       "      'Original music has also been composed for the Marvel One-Shots short film series, and other related projects of the MCU, including the fanfares for the two Marvel Studios logos, composed by Tyler and Michael Giacchino, respectively.']}],\n",
       "   'retrieved_topics': ['Oddworld Inhabitants',\n",
       "    'Legalism (Chinese philosophy)',\n",
       "    'Sci-Fi on the Rock',\n",
       "    'Starstruck (comics)',\n",
       "    'The Spirit of the Age',\n",
       "    'Science fiction film',\n",
       "    'Music of the Marvel Cinematic Universe']},\n",
       "  {'speaker': '1_Apprentice',\n",
       "   'text': 'I agree. One of my favorite forms of science fiction is anything related to time travel! I find it fascinating.',\n",
       "   'retrieved_passages': [{'Science fiction': ['Science fiction (often shortened to SF or sci-fi) is a genre of speculative fiction, typically dealing with imaginative concepts such as futuristic science and technology, space travel, time travel, faster than light travel, parallel universes, and extraterrestrial life.',\n",
       "      'Science fiction often explores the potential consequences of scientific and other innovations, and has been called a \"literature of ideas\".',\n",
       "      'It usually avoids the supernatural, unlike the related genre of fantasy.',\n",
       "      'Historically, science-fiction stories have had a grounding in actual science, but now this is only expected of hard science fiction.']},\n",
       "    {'Science fiction film': ['Science fiction film (or sci-fi film) is a genre that uses speculative, fictional science-based depictions of phenomena that are not fully accepted by mainstream science, such as extraterrestrial lifeforms, alien worlds, extrasensory perception and time travel, along with futuristic elements such as spacecraft, robots, cyborgs, interstellar travel or other technologies.',\n",
       "      'Science fiction films have often been used to focus on political or social issues, and to explore philosophical issues like the human condition.',\n",
       "      'In many cases, tropes derived from written science fiction may be used by filmmakers ignorant of or at best indifferent to the standards of scientific plausibility and plot logic to which written science fiction is traditionally held.']},\n",
       "    {'History of science fiction': ['The literary genre of science fiction is diverse, and its exact definition remains a contested question among both scholars and devotees.',\n",
       "      \"This lack of consensus is reflected in debates about the genre's history, particularly over determining its exact origins.\",\n",
       "      'There are two broad camps of thought, one that identifies the genre\\'s roots in early fantastical works such as the Sumerian \"Epic of Gilgamesh\" (earliest Sumerian text versions c. 2150–2000 BCE).',\n",
       "      'A second approach argues that science fiction only became possible sometime between the 17th and early 19th centuries, following the scientific revolution and major discoveries in astronomy, physics, and mathematics.']},\n",
       "    {'Time travel': ['Time travel is the concept of movement between certain points in time, analogous to movement between different points in space by an object or a person, typically using a hypothetical device known as a time machine, in the form of a vehicle or of a portal connecting distant points in spacetime, either to an earlier time or to a later time, without the need for the time-traveling body to experience the intervening period in the usual sense.',\n",
       "      'Time travel is a widely-recognized concept in philosophy and fiction.',\n",
       "      'It was popularized by H. G. Wells\\' 1895 novel \"The Time Machine\", which moved the concept of time travel into the public imagination.']},\n",
       "    {'Parallel universes in fiction': [\"A parallel universe is a hypothetical self-contained reality co-existing with one's own.\",\n",
       "      'A specific group of parallel universes are called a \"multiverse\", although this term can also be used to describe the possible parallel universes that constitute reality.',\n",
       "      'While the terms \"parallel universe\" and \"alternative reality\" are generally synonymous and can be used interchangeably in most cases, there is sometimes an additional connotation implied with the term \"alternative reality\" that implies that the reality is a variant of our own.',\n",
       "      'The term \"parallel universe\" is more general, without any connotations implying a relationship, or lack of relationship, with our own universe.']},\n",
       "    {'Alternate history': ['Alternate history or alternative history (Commonwealth English), sometimes abbreviated as AH, is a genre of fiction consisting of stories in which one or more historical events occur differently.',\n",
       "      'These stories usually contain \"what if\" scenarios at crucial points in history and present outcomes other than those in the historical record.',\n",
       "      'The stories are conjectural, but are sometimes based on fact.',\n",
       "      'Alternate history has been seen as a subgenre of literary fiction, science fiction, or historical fiction; alternate history works may use tropes from any or all of these genres.',\n",
       "      'Another term occasionally used for the genre is \"allohistory\" (literally \"other history\").']},\n",
       "    {'Time travel in fiction': ['Time travel is a common theme in fiction and has been depicted in a variety of media, such as literature, television, film, and advertisements.',\n",
       "      'The concept of time travel by mechanical means was popularized in H. G. Wells\\' 1895 story, \"The Time Machine\".',\n",
       "      'In general, time travel stories focus on the consequences of traveling into the past or the future.',\n",
       "      'The central premise for these stories oftentimes involves changing history, either intentionally or by accident, and the ways by which altering the past changes the future and creates an altered present or future for the time traveler when they return home.']}],\n",
       "   'retrieved_topics': ['Science fiction',\n",
       "    'Science fiction film',\n",
       "    'History of science fiction',\n",
       "    'Time travel',\n",
       "    'Parallel universes in fiction',\n",
       "    'Alternate history',\n",
       "    'Time travel in fiction']},\n",
       "  {'speaker': '0_Wizard',\n",
       "   'text': \"It's not quite sci-fi, but my favorite version of time travel is in Harry Potter and the Prisoner of Azkaban. Breaks zero logical rules.\",\n",
       "   'checked_sentence': {'partner_Time_travel_in_fiction_3': 'The central premise for these stories oftentimes involves changing history, either intentionally or by accident, and the ways by which altering the past changes the future and creates an altered present or future for the time traveler when they return home.'},\n",
       "   'checked_passage': {'partner_6_Time_travel_in_fiction': 'Time travel in fiction'},\n",
       "   'retrieved_passages': [{'Magical objects in Harry Potter': ['The following is a list of magical objects used in the \"Harry Potter\" series.',\n",
       "      'In \"Harry Potter and the Order of the Phoenix\", Hermione Granger creates fake, enchanted Galleons that are used for communication between members of Dumbledore\\'s Army.',\n",
       "      \"Like real Galleons, the coins have numerals around the edge; on normal Galleons these serial numbers aren't used the same way the enchanted coins are used, the numbers represent the time and date of the next meeting, and automatically change to match whatever numbers Harry Potter sets on his coin.\",\n",
       "      'Due to the coins being infused with a Protean Charm, once Harry Potter alters his, every coin changes to suit.']},\n",
       "    {'List of supporting Harry Potter characters': ['The following are supporting characters in the \"Harry Potter\" series written by J. K. Rowling.',\n",
       "      \"For members of the Order of the Phoenix, Dumbledore's Army, Hogwarts staff, Ministry of Magic, or for Death Eaters, see the respective articles.\",\n",
       "      \"The Dursley family are Harry Potter's last living relatives.\",\n",
       "      \"To ensure Harry's safety, Albus Dumbledore placed him in the Dursleys' care when he was a baby.\",\n",
       "      'The Dursleys live at Number 4, Privet Drive, Little Whinging in Surrey, England.',\n",
       "      'They are all Muggles, and despise all things related to magic – and anything out of the ordinary in general – and the Wizarding World, especially the Potters.']},\n",
       "    {'Harry Potter': ['Harry Potter is a series of fantasy novels written by British author J. K. Rowling.',\n",
       "      'The novels chronicle the life of a young wizard, Harry Potter, and his friends Hermione Granger and Ron Weasley, all of whom are students at Hogwarts School of Witchcraft and Wizardry.',\n",
       "      \"The main story arc concerns Harry's struggle against Lord Voldemort, a dark wizard who intends to become immortal, overthrow the wizard governing body known as the Ministry of Magic, and subjugate all wizards and muggles, a reference term that means non-magical people.\",\n",
       "      'Since the release of the first novel, \"Harry Potter and the Philosopher\\'s Stone\", on 26 June 1997, the books have found immense popularity, critical acclaim, and commercial success worldwide.']},\n",
       "    {'Order of the Phoenix (fictional organisation)': ['The Order of the Phoenix is a secret organisation in the \"Harry Potter\" series of fiction books written by J. K. Rowling.',\n",
       "      'Founded by Albus Dumbledore to fight Lord Voldemort and his followers, the Death Eaters, the Order lends its name to the fifth book of the series, \"Harry Potter and the Order of the Phoenix\".',\n",
       "      'Before the Harry Potter series starts – when the character Lord Voldemort declared war on the wizarding world – Albus Dumbledore, headmaster of Hogwarts School of Witchcraft and Wizardry and an upstanding and powerful citizen of the wizarding world, attempted to take control of the situation by founding the Order of the Phoenix.']},\n",
       "    {'Places in Harry Potter': ['J. K. Rowling\\'s \"Harry Potter\" universe contains numerous settings for the events in her fantasy novels.',\n",
       "      'These locations are categorised as a dwelling, school, shopping district, or government-affiliated locale.',\n",
       "      \"The Weasleys' home, known as the Burrow, is located outside the village of Ottery St Catchpole, also near the home of the Lovegoods, the Diggorys and the Fawcetts.\",\n",
       "      'The Burrow was used as the Order of the Phoenix\\'s headquarters, due to the compromised Fidelius Charm placed on 12 Grimmauld Place, in \"Harry Potter and the Deathly Hallows\" until it lost its given protection.',\n",
       "      'The Weasley house has seven floors.']},\n",
       "    {'Ministry of Magic': ['The Ministry of Magic is the government of the Magical community of Britain in \"J. K. Rowling\\'s Wizarding World\" .The magical government in Britain is  first mentioned in \"Harry Potter and the Philosopher\\'s Stone,\" the Ministry makes its first proper appearance in \"Harry Potter and the Order of the Phoenix\".',\n",
       "      'Throughout the books, it is generally depicted as either corrupt, incompetent, or both, with its high officials blind to actual events and dangers.',\n",
       "      'It reaches a zenith of corruption before being effectively taken over by Lord Voldemort.',\n",
       "      \"At the end of the final book, following Voldemort's death, Kingsley Shacklebolt takes over the ministry, changing it for the better.\"]},\n",
       "    {'Harry Potter (film series)': ['Harry Potter is a British-American film series based on the \"Harry Potter\" novels by author J. K. Rowling.',\n",
       "      'The series is distributed by Warner Bros. and consists of eight fantasy films, beginning with \"Harry Potter and the Philosopher\\'s Stone\" (2001) and culminating with \"Harry Potter and the Deathly Hallows – Part 2\" (2011).',\n",
       "      'A spin-off prequel series will consist of five films, starting with \"Fantastic Beasts and Where to Find Them\" (2016).',\n",
       "      'The \"Fantastic Beasts\" films mark the beginning of a shared media franchise known as J. K. Rowling\\'s Wizarding World.',\n",
       "      'The series was mainly produced by David Heyman, and stars Daniel Radcliffe, Rupert Grint, and Emma Watson as the three leading characters: Harry Potter, Ron Weasley, and Hermione Granger.']}],\n",
       "   'retrieved_topics': ['Magical objects in Harry Potter',\n",
       "    'List of supporting Harry Potter characters',\n",
       "    'Harry Potter',\n",
       "    'Order of the Phoenix (fictional organisation)',\n",
       "    'Places in Harry Potter',\n",
       "    'Ministry of Magic',\n",
       "    'Harry Potter (film series)']},\n",
       "  {'speaker': '1_Apprentice',\n",
       "   'text': \"And that's difficult to do when dealing with time travel. I actually haven't seen the latest Harry Potter movies. Guess it's time to check them out!\",\n",
       "   'retrieved_passages': [{'Politics of Harry Potter': ['There are many published theories about the politics of the Harry Potter books by J. K. Rowling, which range from them containing criticism of racism to anti-government sentiments.',\n",
       "      'According to \"Inside Higher Ed\", doctoral theses have been devoted to the Harry Potter books.',\n",
       "      'There are also several university courses centred on analysis of the Potter series, including an upper division Political Science course.',\n",
       "      '\"Time\" magazine noted the political and social aspects of Harry Potter in their 2007 Person of the Year issue where Rowling placed third behind politicians Vladimir Putin and Al Gore.',\n",
       "      'Harry Potter\\'s potential social and political impact was called similar to the 19th century phenomenon of Harriet Beecher Stowe\\'s popular, but critically maligned book, \"Uncle Tom\\'s Cabin\", which fuelled the abolitionist movement leading up to the American Civil War.']},\n",
       "    {'Religious debates over the Harry Potter series': ['Religious debates over the \"Harry Potter\" series of books by J. K. Rowling are based on claims that the novels contain occult or Satanic subtexts.',\n",
       "      'A number of Protestant, Catholic, and Orthodox Christians have argued against the series, as have some Shia and Sunni Muslims.',\n",
       "      'Supporters of the series have said that the magic in \"Harry Potter\" bears little resemblance to occultism, being more in the vein of fairy tales such as \"Cinderella\" and \"Snow White\", or to the works of C. S. Lewis and J. R. R. Tolkien, both of whom are known for writing fantasy novels with Christian subtexts.',\n",
       "      'Far from promoting a particular religion, some argue, the \"Harry Potter\" novels go out of their way to avoid discussing religion at all.']},\n",
       "    {'Magical objects in Harry Potter': ['The following is a list of magical objects used in the \"Harry Potter\" series.',\n",
       "      'In \"Harry Potter and the Order of the Phoenix\", Hermione Granger creates fake, enchanted Galleons that are used for communication between members of Dumbledore\\'s Army.',\n",
       "      \"Like real Galleons, the coins have numerals around the edge; on normal Galleons these serial numbers aren't used the same way the enchanted coins are used, the numbers represent the time and date of the next meeting, and automatically change to match whatever numbers Harry Potter sets on his coin.\",\n",
       "      'Due to the coins being infused with a Protean Charm, once Harry Potter alters his, every coin changes to suit.']},\n",
       "    {'Harry Potter': ['Harry Potter is a series of fantasy novels written by British author J. K. Rowling.',\n",
       "      'The novels chronicle the life of a young wizard, Harry Potter, and his friends Hermione Granger and Ron Weasley, all of whom are students at Hogwarts School of Witchcraft and Wizardry.',\n",
       "      \"The main story arc concerns Harry's struggle against Lord Voldemort, a dark wizard who intends to become immortal, overthrow the wizard governing body known as the Ministry of Magic, and subjugate all wizards and muggles, a reference term that means non-magical people.\",\n",
       "      'Since the release of the first novel, \"Harry Potter and the Philosopher\\'s Stone\", on 26 June 1997, the books have found immense popularity, critical acclaim, and commercial success worldwide.']},\n",
       "    {'Harry Potter fandom': ['\"\"Harry Potter\" fandom\" refers to the community of fans of the \"Harry Potter\" books and movies who participate in entertainment activities that revolve around the series, such as reading and writing fan fiction, creating and soliciting fan art, engaging in role-playing games, socializing on \"Harry Potter\"-based forums, and more.',\n",
       "      'The fandom interacts online as well as offline through activities such as fan conventions, tours of iconic landmarks relevant to the books and production of the films, and parties held for the midnight release of each book and film.',\n",
       "      'By the fourth \"Harry Potter\" book, the legions of fans had grown so large that considerable security measures were taken to ensure that no book was purchased before the official release date.']},\n",
       "    {'List of supporting Harry Potter characters': ['The following are supporting characters in the \"Harry Potter\" series written by J. K. Rowling.',\n",
       "      \"For members of the Order of the Phoenix, Dumbledore's Army, Hogwarts staff, Ministry of Magic, or for Death Eaters, see the respective articles.\",\n",
       "      \"The Dursley family are Harry Potter's last living relatives.\",\n",
       "      \"To ensure Harry's safety, Albus Dumbledore placed him in the Dursleys' care when he was a baby.\",\n",
       "      'The Dursleys live at Number 4, Privet Drive, Little Whinging in Surrey, England.',\n",
       "      'They are all Muggles, and despise all things related to magic – and anything out of the ordinary in general – and the Wizarding World, especially the Potters.']},\n",
       "    {'Legal disputes over the Harry Potter series': ['Since first coming to wide notice in the late 1990s, the \"Harry Potter\" book series by J. K. Rowling has engendered a number of legal disputes.',\n",
       "      'Rowling, her various publishers and Time Warner, the owner of the rights to the \"Harry Potter\" films, have taken numerous legal actions to protect their copyrights, and also have fielded accusations of copyright theft themselves.',\n",
       "      'The worldwide popularity of the \"Harry Potter\" series has led to the appearance of a number of locally produced, unauthorised sequels and other derivative works, sparking efforts to ban or contain them.',\n",
       "      'While these legal proceedings have countered a number of cases of outright piracy, other attempts have targeted not-for-profit endeavours and have been criticised.']}],\n",
       "   'retrieved_topics': ['Politics of Harry Potter',\n",
       "    'Religious debates over the Harry Potter series',\n",
       "    'Magical objects in Harry Potter',\n",
       "    'Harry Potter',\n",
       "    'Harry Potter fandom',\n",
       "    'List of supporting Harry Potter characters',\n",
       "    'Legal disputes over the Harry Potter series']},\n",
       "  {'speaker': '0_Wizard',\n",
       "   'text': 'If you really want a look at the potential negative consequences of scientific innovation, what you should check out is the TV show Fringe. Incredibly well written.',\n",
       "   'checked_sentence': {'chosen_Science_fiction_0': 'Science fiction often explores the potential consequences of scientific and other innovations, and has been called a \"literature of ideas\".'},\n",
       "   'checked_passage': {'chosen_topic_0_Science_fiction': 'Science fiction'},\n",
       "   'retrieved_passages': [{'Characters of Casualty': ['\"Casualty\" is a British medical drama television series that premiered on 6 September 1986 on BBC One.',\n",
       "      'The series was created by Jeremy Brock and Paul Unwin.',\n",
       "      'It is set in the fictional Holby City Hospital, in the equally fictitious city of Holby, and features occasional crossovers of characters and plots with spin-off show \"Holby City\".',\n",
       "      '\"Casualty\" follows the professional and personal lives of the doctors, nurses, paramedics, hospital management and patients at Holby General.',\n",
       "      'It features an ensemble cast of regular characters, and began with 10 main characters in its first series, all but two – Charlie Fairhead (played by Derek Thompson) and Lisa \"Duffy\" Duffin (played by Cathy Shipton) – have since left the show.']},\n",
       "    {'Adolescent sexuality in the United States': ['According to the US Centers for Disease Control and Prevention (CDC), in the year 2007, 35% of US high school students were currently sexually active and 47.8% of US high school students reported having had sexual intercourse.',\n",
       "      'This percentage has decreased slightly since 1991.',\n",
       "      'According to a 1994 study, every year an estimated one in four sexually active teens contracts a sexually transmitted infection (STI).',\n",
       "      'Teenage pregnancy is four times as prevalent in the United States as in the European Union.',\n",
       "      'However, US teen pregnancy rates have been steadily declining for decades, according to the Centers for Disease Control and were at a \"record low\" as of 2012.']},\n",
       "    {'Fringe (TV series)': ['Fringe is an American science fiction television series created by J. J. Abrams, Alex Kurtzman, and Roberto Orci.',\n",
       "      'It premiered on the Fox network on September 9, 2008, and concluded on January 18, 2013, after five seasons and 100 episodes.',\n",
       "      'The series follows Olivia Dunham (Anna Torv), Peter Bishop (Joshua Jackson), and Walter Bishop (John Noble), all members of the fictional Fringe Division of the Federal Bureau of Investigation, based in Boston, Massachusetts, under the supervision of Homeland Security.',\n",
       "      'The team uses fringe science and FBI investigative techniques to investigate a series of unexplained, often ghastly occurrences, which are related to mysteries surrounding a parallel universe.']},\n",
       "    {'List of films considered the worst': ['The films listed below have been cited by a variety of notable critics in varying media sources as being among the worst films ever made.',\n",
       "      'Examples of such sources include Metacritic, Roger Ebert\\'s list of most-hated films, \"The Golden Turkey Awards\", \"Leonard Maltin\\'s Movie Guide\", Rotten Tomatoes, the Stinkers Bad Movie Awards, \"Mystery Science Theater 3000\", and the Golden Raspberry Awards (\"Razzies\").',\n",
       "      '\"Reefer Madness\" (originally released as \"Tell Your Children\" and sometimes titled or subtitled as \"The Burning Question\", \"Dope Addict\", \"Doped Youth\", and \"Love Madness\") is a 1936 American exploitation film and propaganda work revolving around the melodramatic events that ensue when high school students are lured by pushers to try marijuana—from a hit and run accident, to manslaughter, suicide, attempted rape, and descent into madness.']},\n",
       "    {'Days Gone Bye (The Walking Dead)': ['\"Days Gone Bye\" is the first episode of the post-apocalyptic horror television series \"The Walking Dead\".',\n",
       "      'It originally aired on AMC in the United States on October 31, 2010.',\n",
       "      'The episode was written and directed by Frank Darabont, the series creator.',\n",
       "      'Robert Kirkman, the creator of the eponymous series of comic books, considered the idea of creating a television show based on the comic series, but did not move forward.',\n",
       "      'Frank Darabont expressed interest in developing the series for television.',\n",
       "      'In January 2010, AMC formally announced that it had ordered a pilot for a possible series adapted from \"The Walking Dead\" comic book.']},\n",
       "    {'Stigma management': ['When a person receives unfair treatment or alienation due to a social stigma, the effects can be detrimental.',\n",
       "      \"Social stigmas are defined as any aspect of an individual's identity that is devalued in a social context.\",\n",
       "      'These stigmas can be categorized as visible or invisible, depending on whether the stigma is readily apparent to others.',\n",
       "      'Visible stigmas refer to characteristics such as race, age, gender, physical disabilities, or deformities, whereas invisible stigmas refer to characteristics such sexual orientation, gender identity, religious affiliation, early pregnancy, certain diseases, or mental illnesses.']},\n",
       "    {'All I Really Want to Do (album)': ['All I Really Want to Do is the debut solo studio album by American singer-actress Cher and was released on October 16, 1965, by Imperial Records.',\n",
       "      'The album was produced for Cher by her then husband and singing partner, Sonny Bono, with contributions from arranger Harold Battiste.',\n",
       "      'The album is by-and-large a collection of cover versions but does contain three songs written by Bono.',\n",
       "      'Upon its release, the album was well received by critics and garnered positive reviews.',\n",
       "      'At the same time that the duo Sonny & Cher were debuting on Atco Records, Sonny Bono arranged a solo deal for Cher on the Imperial label.']}],\n",
       "   'retrieved_topics': ['Characters of Casualty',\n",
       "    'Adolescent sexuality in the United States',\n",
       "    'Fringe (TV series)',\n",
       "    'List of films considered the worst',\n",
       "    'Days Gone Bye (The Walking Dead)',\n",
       "    'Stigma management',\n",
       "    'All I Really Want to Do (album)']},\n",
       "  {'speaker': '1_Apprentice',\n",
       "   'text': 'Thank you for the suggestion, I will definitely check it out!',\n",
       "   'retrieved_passages': [{'Charles Downing Lay': ['Charles Downing Lay (September 3, 1877 – February 15, 1956) was an American landscape architect.',\n",
       "      'The son of Oliver Ingraham Lay, a professional painter, and Hester Marian Wait Lay, Charles Downing Lay was born in Newburgh, New York.',\n",
       "      'At age 7, Lay began spending summers with his grandmother in Stratford, Connecticut.',\n",
       "      'Her house was located at 95 Chapel Street, which is approximately away from the banks of the Housatonic River.',\n",
       "      'Lay spent much of his childhood in Stratford fishing, sailing, and swimming and developed a great appreciation for nature.',\n",
       "      \"The Housatonic, along with the Long Island Sound, would greatly influence the course of Lay's career.\"]},\n",
       "    {'Pyro-Magnetics Corporation': ['Pyro-Magnetics Corporation was a Whitman, Massachusetts based manufacturer of industrial furnaces.',\n",
       "      'The business produced a processor for disposing hazardous wastes.',\n",
       "      \"The product's technical requirements were approved by the Environmental Protection Agency in June 1982.\",\n",
       "      'In late 1982 the corporation sold its two operating units to pay debts and after the sale few of its employees remained.',\n",
       "      'The Pyro-Magnetics Corporation filed for Chapter 7 bankruptcy at a federal bankruptcy court in Whitman, in April 1983.',\n",
       "      'Prior to this the firm embarked on an unsuccessful attempt to raise cash by developing commercial applications for its high-temperature melting technology.']},\n",
       "    {'Charles Downing': ['Charles Downing (died 1845) was a Delegate to the US House of Representatives from the Florida Territory.',\n",
       "      'He was born in Virginia, although it is unknown when.',\n",
       "      'In his life, Downing studied law, and after being admitted to The Florida Bar, practiced in St. Augustine, Florida.',\n",
       "      'Initially a member of the Legislative Council of the Territory of Florida, Downing was elected to the Twenty-fifth United States Congress, and took office on March 4, 1837.',\n",
       "      'Two years later, he was re-elected to the Twenty-sixth United States Congress, and his term ended on March 3, 1841.',\n",
       "      'Charles Downing died St. Augustine, Florida.']},\n",
       "    {'Charles Downing (pomologist)': ['Charles Downing (July 9, 1802\\xa0– January 18, 1885), was an American pomologist, horticulturist, and author.',\n",
       "      'Although not as well known to the public as his brother Andrew Jackson Downing, Charles established a sound reputation for his creative work in pomology.',\n",
       "      'Born in Newburgh, New York, his taste for horticultural pursuits was early stimulated by close contact with a nursery owned by his father, Samuel Downing.',\n",
       "      'Even while attending an academy in the neighborhood he worked a portion of the time in this nursery.',\n",
       "      'Upon the death of his father in 1822, he succeeded to the entire charge of the establishment.']},\n",
       "    {'List of Jimmy Fallon games and sketches': ['The following is a list of recurring games, sketches, and other comedy routines from the NBC late night talk show \"The Tonight Show Starring Jimmy Fallon\", and its predecessor, \"Late Night with Jimmy Fallon\".',\n",
       "      \"The sketches feature host Jimmy Fallon, house band The Roots, announcer/sidekick Steve Higgins, the show's writers, celebrity guests, and audience members.\",\n",
       "      'Most of the skits below appeared only on \"Late Night\", while some have carried over to the \"Tonight Show\".',\n",
       "      \"Every Tuesday on the show, Jimmy weighs the pros and cons of a topic that's currently in the news, with the pros being the setups and the cons being the punchlines.\"]},\n",
       "    {'Mobile Orchestra': ['Mobile Orchestra is the fifth studio album by American electronica project Owl City, which was released on July 10, 2015.',\n",
       "      'In 2014, Owl City released an EP called \"Ultraviolet\" and released \"Beautiful Times\" as the lead single.',\n",
       "      'Following the release, Young stated his intent to release a steady \"series of EPs\" in 2014 rather than one larger recording.',\n",
       "      'On October 7, 2014, Young released two new songs simultaneously, \"You\\'re Not Alone\" (featuring Britt Nicole) and \"Tokyo\" (featuring Sekai no Owari).',\n",
       "      'The former would eventually become part of the international edition of the album while the latter would become the fourth track of the Japanese edition.']},\n",
       "    {'Slash fiction': ['Slash fiction is a genre of fan fiction that focuses on interpersonal attraction and sexual relationships between fictional characters of the same sex.',\n",
       "      'While the term \"slash\" originally only referred to stories where male characters were involved in an explicit sexual relationship as a primary plot element (also known as \"m/m slash\"), it is now used to refer to any fan story containing a pairing between same-sex characters.',\n",
       "      'Many fans distinguish female-focused slash as a separate genre, commonly referred to as femslash (also known as \"f/f slash\" or \"femmeslash\").',\n",
       "      'These fan written stories are not canon, and the characters are usually not engaged in such relationships in their respective fictional universes.']}],\n",
       "   'retrieved_topics': ['Charles Downing Lay',\n",
       "    'Pyro-Magnetics Corporation',\n",
       "    'Charles Downing',\n",
       "    'Charles Downing (pomologist)',\n",
       "    'List of Jimmy Fallon games and sketches',\n",
       "    'Mobile Orchestra',\n",
       "    'Slash fiction']},\n",
       "  {'speaker': '0_Wizard',\n",
       "   'text': \"It blends science fiction and paranormal/psychological/MK Ultra type stuff together, but it's science fiction at its core.\",\n",
       "   'checked_sentence': {'no_passages_used': 'no_passages_used'},\n",
       "   'checked_passage': {'no_passages_used': 'no_passages_used'},\n",
       "   'retrieved_passages': [{'Science fiction': ['Science fiction (often shortened to SF or sci-fi) is a genre of speculative fiction, typically dealing with imaginative concepts such as futuristic science and technology, space travel, time travel, faster than light travel, parallel universes, and extraterrestrial life.',\n",
       "      'Science fiction often explores the potential consequences of scientific and other innovations, and has been called a \"literature of ideas\".',\n",
       "      'It usually avoids the supernatural, unlike the related genre of fantasy.',\n",
       "      'Historically, science-fiction stories have had a grounding in actual science, but now this is only expected of hard science fiction.']},\n",
       "    {'Visionary fiction': ['Visionary fiction is a fiction genre with New Age or mind, body, spirit themes and perspectives, including consciousness expansion, spirituality, mysticism, and parapsychology.',\n",
       "      'It is sometimes classed as a subtype of speculative fiction.',\n",
       "      'Examples include the novels \"The Celestine Prophecy\" \"The Alchemist\", and \"\".',\n",
       "      'The Book Industry Study Group\\'s BISAC subject heading FIC039000 is \"FICTION / Visionary & Metaphysical\".',\n",
       "      'Although similar themes and content occur in the literature of numerous cultures in many ages, the term \"visionary fiction\" was suggested by Renee Weber, professor of philosophy at Rutgers University, and used by John Algeo in a 1982 article describing recent examples and earlier precursors.']},\n",
       "    {'History of science fiction': ['The literary genre of science fiction is diverse, and its exact definition remains a contested question among both scholars and devotees.',\n",
       "      \"This lack of consensus is reflected in debates about the genre's history, particularly over determining its exact origins.\",\n",
       "      'There are two broad camps of thought, one that identifies the genre\\'s roots in early fantastical works such as the Sumerian \"Epic of Gilgamesh\" (earliest Sumerian text versions c. 2150–2000 BCE).',\n",
       "      'A second approach argues that science fiction only became possible sometime between the 17th and early 19th centuries, following the scientific revolution and major discoveries in astronomy, physics, and mathematics.']},\n",
       "    {'Science fiction film': ['Science fiction film (or sci-fi film) is a genre that uses speculative, fictional science-based depictions of phenomena that are not fully accepted by mainstream science, such as extraterrestrial lifeforms, alien worlds, extrasensory perception and time travel, along with futuristic elements such as spacecraft, robots, cyborgs, interstellar travel or other technologies.',\n",
       "      'Science fiction films have often been used to focus on political or social issues, and to explore philosophical issues like the human condition.',\n",
       "      'In many cases, tropes derived from written science fiction may be used by filmmakers ignorant of or at best indifferent to the standards of scientific plausibility and plot logic to which written science fiction is traditionally held.']},\n",
       "    {'Alien (film)': ['Alien is a 1979 science fiction horror film directed by Ridley Scott, and starring Sigourney Weaver, Tom Skerritt, Veronica Cartwright, Harry Dean Stanton, John Hurt, Ian Holm and Yaphet Kotto.',\n",
       "      'It is the first movie in what became a large \"Alien\" franchise.',\n",
       "      \"The film's title refers to a highly aggressive extraterrestrial creature that stalks and attacks the crew of a spaceship.\",\n",
       "      \"Dan O'Bannon, drawing upon previous works of science fiction and horror, wrote the screenplay from a story he co-authored with Ronald Shusett.\",\n",
       "      'The film was produced by Gordon Carroll, David Giler and Walter Hill through their company Brandywine Productions, and was distributed by 20th Century Fox.']},\n",
       "    {'Shadow Man (2006 film)': ['Shadow Man is a 2006 American thriller film directed by Michael Keusch, and also written and produced by Steven Seagal, who also starred in the film.',\n",
       "      'The film co-stars Eva Pope, Imelda Staunton and Garrick Hagon.',\n",
       "      'The film was released on direct-to-DVD in the United States on June 6, 2006.',\n",
       "      'Widowed former CIA agent Jack Foster (The Shadow Man) is an enigmatic Fortune 500 business owner, and is the father of an 8-year-old daughter named Amanda.',\n",
       "      \"It's the anniversary of the death of Jack's wife, and Jack is taking Amanda to Romania, which is the birthplace of Amanda's mother, who died 5 years ago.\",\n",
       "      \"But upon arrival at the airport in Bucharest, Romania, a car bomb blows up his CIA agent father-in-law George's limo, and Amanda is kidnapped.\"]},\n",
       "    {'LGBT themes in speculative fiction': ['LGBT themes in speculative fiction refer to the incorporation of lesbian, gay, bisexual, or transgender (LGBT) themes into science fiction, fantasy, horror fiction and related genres.',\n",
       "      'Such elements may include an LGBT character as the protagonist or a major character, or explorations of sexuality or gender that deviate from the hetero-normative.',\n",
       "      'Science fiction and fantasy have traditionally been puritanical genres aimed at a male readership, and can be more restricted than non-genre literature by their conventions of characterisation and the effect that these conventions have on depictions of sexuality and gender.']}],\n",
       "   'retrieved_topics': ['Science fiction',\n",
       "    'Visionary fiction',\n",
       "    'History of science fiction',\n",
       "    'Science fiction film',\n",
       "    'Alien (film)',\n",
       "    'Shadow Man (2006 film)',\n",
       "    'LGBT themes in speculative fiction']},\n",
       "  {'speaker': '1_Apprentice',\n",
       "   'text': 'Always looking for more science fiction to digest!',\n",
       "   'retrieved_passages': [{'History of US science fiction and fantasy magazines to 1950': ['Science fiction and fantasy magazines began to be published in the US in the 1920s.',\n",
       "      'Stories with science fiction themes had been appearing for decades in pulp magazines such as \"Argosy\", but there were no magazines that specialized in a single genre until 1915, when Street & Smith, one of the major pulp publishers, brought out \"Detective Story Magazine\".',\n",
       "      'The first magazine to focus solely on fantasy and horror was \"Weird Tales\", which was launched in 1923, and established itself as the leading weird fiction magazine over the next two decades; writers such as H.P.',\n",
       "      'Lovecraft, Clark Ashton Smith and Robert E. Howard became regular contributors.']},\n",
       "    {'Amazing Stories': [\"Amazing Stories is an American science fiction magazine launched in April 1926 by Hugo Gernsback's Experimenter Publishing.\",\n",
       "      'It was the first magazine devoted solely to science fiction.',\n",
       "      'Science fiction stories had made regular appearances in other magazines, including some published by Gernsback, but \"Amazing\" helped define and launch a new genre of pulp fiction.',\n",
       "      '\"Amazing\" was published, with some interruptions, for almost eighty years, going through a half-dozen owners and many editors as it struggled to be profitable.',\n",
       "      'Gernsback was forced into bankruptcy and lost control of the magazine in 1929, and by 1938 it was purchased by Ziff-Davis, who hired Raymond A. Palmer as editor.']},\n",
       "    {'Analog Science Fiction and Fact': ['Analog Science Fiction and Fact is an American science-fiction magazine published under various titles since 1930.',\n",
       "      'Originally titled Astounding Stories of Super-Science, the first issue was dated January 1930, published by William Clayton, and edited by Harry Bates.',\n",
       "      'Clayton went bankrupt in 1933 and the magazine was sold to Street & Smith.',\n",
       "      'The new editor was F. Orlin Tremaine, who soon made \"Astounding\" the leading magazine in the nascent pulp science fiction field, publishing well-regarded stories such as Jack Williamson\\'s \"Legion of Space\" and John W. Campbell\\'s \"Twilight\".',\n",
       "      \"At the end of 1937, Campbell took over editorial duties under Tremaine's supervision, and the following year Tremaine was let go, giving Campbell more independence.\"]},\n",
       "    {'Future Science Fiction and Science Fiction Stories': ['Future Science Fiction and Science Fiction Stories were two American science fiction magazines that were published under various names between 1939 and 1943 and again from 1950 to 1960.',\n",
       "      'Both publications were edited by Charles Hornig for the first few issues; Robert W. Lowndes took over in late 1941, and remained editor until the end.',\n",
       "      'The initial launch of the magazines came as part of a boom in science fiction pulp magazine publishing at the end of the 1930s.',\n",
       "      'In 1941 the two magazines were combined into one, titled \"Future Fiction combined with Science Fiction\", but in 1943 wartime paper shortages ended the magazine\\'s run, as Louis Silberkleit, the publisher, decided to focus his resources on his mystery and western magazine titles.']},\n",
       "    {'Science fiction': ['Science fiction (often shortened to SF or sci-fi) is a genre of speculative fiction, typically dealing with imaginative concepts such as futuristic science and technology, space travel, time travel, faster than light travel, parallel universes, and extraterrestrial life.',\n",
       "      'Science fiction often explores the potential consequences of scientific and other innovations, and has been called a \"literature of ideas\".',\n",
       "      'It usually avoids the supernatural, unlike the related genre of fantasy.',\n",
       "      'Historically, science-fiction stories have had a grounding in actual science, but now this is only expected of hard science fiction.']},\n",
       "    {'Galaxy Science Fiction': ['Galaxy Science Fiction was an American digest-size science fiction magazine, published from 1950 to 1980.',\n",
       "      'It was founded by a French-Italian company, World Editions, which was looking to break into the American market.',\n",
       "      'World Editions hired as editor H. L. Gold, who rapidly made \"Galaxy\" the leading science fiction (sf) magazine of its time, focusing on stories about social issues rather than technology.',\n",
       "      'Gold published many notable stories during his tenure, including Ray Bradbury\\'s \"The Fireman\", later expanded as \"Fahrenheit 451\"; Robert A. Heinlein\\'s \"The Puppet Masters\"; and Alfred Bester\\'s \"The Demolished Man\".']},\n",
       "    {'Science fiction magazine': ['A science fiction magazine is a publication that offers primarily science fiction, either in a hard copy periodical format or on the Internet.',\n",
       "      'Science fiction magazines traditionally featured speculative fiction in short story, novelette, novella or (usually serialized) novel form, a format that continues into the present day.',\n",
       "      'Many also contain editorials, book reviews or articles, and some also include stories in the fantasy and horror genres.',\n",
       "      'Malcolm Edwards and Peter Nicholls write that early magazines were not known as science fiction: \"if there were any need to differentiate them, the terms scientific romance or \\'different stories\\' might be used, but until the appearance of a magazine specifically devoted to sf there was no need of a label to describe the category.']}],\n",
       "   'retrieved_topics': ['History of US science fiction and fantasy magazines to 1950',\n",
       "    'Amazing Stories',\n",
       "    'Analog Science Fiction and Fact',\n",
       "    'Future Science Fiction and Science Fiction Stories',\n",
       "    'Science fiction',\n",
       "    'Galaxy Science Fiction',\n",
       "    'Science fiction magazine']}],\n",
       " 'chosen_topic_passage': ['Science fiction (often shortened to SF or sci-fi) is a genre of speculative fiction, typically dealing with imaginative concepts such as futuristic science and technology, space travel, time travel, faster than light travel, parallel universes, and extraterrestrial life.',\n",
       "  'Science fiction often explores the potential consequences of scientific and other innovations, and has been called a \"literature of ideas\".',\n",
       "  'It usually avoids the supernatural, unlike the related genre of fantasy.',\n",
       "  'Historically, science-fiction stories have had a grounding in actual science, but now this is only expected of hard science fiction.',\n",
       "  'Science fiction is difficult to define, as it includes a wide range of subgenres and themes.',\n",
       "  'Hugo Gernsback, who suggested the term \"scientifiction\" for his \"Amazing Stories\" magazine, wrote: \"By \\'scientifiction\\' I mean the Jules Verne, H. G. Wells and Edgar Allan Poe type of story—a charming romance intermingled with scientific fact and prophetic vision... Not only do these amazing tales make tremendously interesting reading—they are always instructive.',\n",
       "  'They supply knowledge... in a very palatable form... New adventures pictured for us in the scientifiction of today are not at all impossible of realization tomorrow...']}"
      ]
     },
     "execution_count": 3,
     "metadata": {},
     "output_type": "execute_result"
    }
   ],
   "source": [
    "train_data[0]"
   ]
  },
  {
   "attachments": {},
   "cell_type": "markdown",
   "metadata": {},
   "source": [
    "We started from this gpt model loaded from huggingface"
   ]
  },
  {
   "cell_type": "code",
   "execution_count": 21,
   "metadata": {},
   "outputs": [],
   "source": [
    "from transformers import GPTNeoForCausalLM, AutoTokenizer\n",
    "\n",
    "model_id = \"EleutherAI/gpt-neo-125M\"\n",
    "\n",
    "# default_device = 'cpu'\n",
    "default_device = 'mps' # apple silicon\n",
    "device = torch.device('cuda' if torch.cuda.is_available() else default_device)\n",
    "\n",
    "tokenizer = AutoTokenizer.from_pretrained(model_id, padding_side='left')\n",
    "model = GPTNeoForCausalLM.from_pretrained('./model').to(device)"
   ]
  },
  {
   "cell_type": "code",
   "execution_count": 22,
   "metadata": {},
   "outputs": [],
   "source": [
    "tokenizer.pad_token = tokenizer.eos_token"
   ]
  },
  {
   "cell_type": "code",
   "execution_count": 3,
   "metadata": {},
   "outputs": [],
   "source": [
    "def extract_checked_sentence(utterance):\n",
    "    try:\n",
    "        checked_sentence = list(utterance['checked_sentence'].values())[0]\n",
    "        return 'PASSAGE: ' + checked_sentence + '\\n'\n",
    "    except:\n",
    "        return ''\n",
    "\n",
    "def parse_dialog(dialog):\n",
    "        return '\\n'.join([\n",
    "            f'SPEAKER: {utterance[\"speaker\"]}\\n' + \\\n",
    "            extract_checked_sentence(utterance) + \\\n",
    "            f'TEXT: {utterance[\"text\"]}\\n'\n",
    "        for utterance in dialog])\n",
    "\n",
    "def parse_data(dataset):\n",
    "    return [\n",
    "        f'CHOSEN_TOPIC: {sample[\"chosen_topic\"]}\\n' + \\\n",
    "        f'PERSONA: {sample[\"persona\"]}\\n' + \\\n",
    "        parse_dialog(sample['dialog'])\n",
    "    for sample in dataset]"
   ]
  },
  {
   "cell_type": "code",
   "execution_count": 4,
   "metadata": {},
   "outputs": [],
   "source": [
    "train_parsed = parse_data(train_data)\n",
    "valid_parsed = parse_data(valid_data)\n",
    "test_parsed = parse_data(test_data)"
   ]
  },
  {
   "cell_type": "code",
   "execution_count": 8,
   "metadata": {},
   "outputs": [],
   "source": [
    "from datasets import Dataset\n",
    "\n",
    "train_parsed = Dataset.from_dict({'text': train_parsed})\n",
    "valid_parsed = Dataset.from_dict({'text': valid_parsed})\n",
    "test_parsed = Dataset.from_dict({'text': test_parsed})"
   ]
  },
  {
   "cell_type": "code",
   "execution_count": 8,
   "metadata": {},
   "outputs": [],
   "source": [
    "from datasets import DatasetDict\n",
    "\n",
    "data = DatasetDict()\n",
    "data['train'] = train_parsed\n",
    "data['validation'] = valid_parsed\n",
    "data['test'] = test_parsed"
   ]
  },
  {
   "cell_type": "code",
   "execution_count": 9,
   "metadata": {},
   "outputs": [
    {
     "name": "stderr",
     "output_type": "stream",
     "text": [
      "Parameter 'function'=<function tokenize_function at 0x2d3d01a80> of the transform datasets.arrow_dataset.Dataset._map_single couldn't be hashed properly, a random hash was used instead. Make sure your transforms and parameters are serializable with pickle or dill for the dataset fingerprinting and caching to work. If you reuse this transform, the caching mechanism will consider it to be different from the previous calls and recompute everything. This warning is only showed once. Subsequent hashing failures won't be showed.\n",
      "100%|██████████| 19/19 [00:06<00:00,  2.94ba/s]\n",
      "100%|██████████| 1/1 [00:00<00:00,  2.68ba/s]\n",
      "100%|██████████| 1/1 [00:00<00:00,  2.77ba/s]\n"
     ]
    }
   ],
   "source": [
    "def tokenize_function(examples):\n",
    "    input_encodings = tokenizer(examples[\"text\"], padding=True, truncation=True)\n",
    "    sample = {\n",
    "        'input_ids': input_encodings.input_ids\n",
    "    }\n",
    "    return sample\n",
    "\n",
    "tokenized_data = data.map(tokenize_function, batched=True)"
   ]
  },
  {
   "cell_type": "code",
   "execution_count": 10,
   "metadata": {},
   "outputs": [],
   "source": [
    "from transformers import DataCollatorForLanguageModeling\n",
    "\n",
    "data_collator = DataCollatorForLanguageModeling(tokenizer, mlm=False)"
   ]
  },
  {
   "cell_type": "code",
   "execution_count": 11,
   "metadata": {},
   "outputs": [],
   "source": [
    "from transformers import TrainingArguments\n",
    "\n",
    "training_args = TrainingArguments(\n",
    "    \"cooler_trainer_name\", \n",
    "    evaluation_strategy=\"steps\",\n",
    "    per_device_train_batch_size=1,\n",
    "    gradient_accumulation_steps=4,\n",
    "    learning_rate=6.25e-5,\n",
    "    lr_scheduler_type=\"linear\",\n",
    "    per_device_eval_batch_size=1,\n",
    "    use_mps_device=True\n",
    ")"
   ]
  },
  {
   "cell_type": "code",
   "execution_count": 12,
   "metadata": {},
   "outputs": [],
   "source": [
    "from transformers import Trainer\n",
    "\n",
    "trainer = Trainer(\n",
    "    model=model, \n",
    "    args=training_args, \n",
    "    train_dataset=tokenized_data['train'], \n",
    "    eval_dataset=tokenized_data['validation'],\n",
    "    data_collator=data_collator\n",
    ")"
   ]
  },
  {
   "cell_type": "code",
   "execution_count": 31,
   "metadata": {},
   "outputs": [
    {
     "name": "stderr",
     "output_type": "stream",
     "text": [
      "/Users/gianmarcodonofrio/miniconda/envs/nlp-project/lib/python3.11/site-packages/transformers/optimization.py:407: FutureWarning: This implementation of AdamW is deprecated and will be removed in a future version. Use the PyTorch implementation torch.optim.AdamW instead, or set `no_deprecation_warning=True` to disable this warning\n",
      "  warnings.warn(\n",
      "  0%|          | 0/13821 [00:00<?, ?it/s]You're using a GPT2TokenizerFast tokenizer. Please note that with a fast tokenizer, using the `__call__` method is faster than using a method to encode the text followed by a call to the `pad` method to get a padded encoding.\n",
      " 90%|█████████ | 12500/13821 [31:18<1:28:19,  4.01s/it]"
     ]
    },
    {
     "name": "stdout",
     "output_type": "stream",
     "text": [
      "{'loss': 0.6522, 'learning_rate': 5.973699442876782e-06, 'epoch': 2.71}\n"
     ]
    },
    {
     "name": "stderr",
     "output_type": "stream",
     "text": [
      "                                                       \n",
      " 90%|█████████ | 12500/13821 [33:53<1:28:19,  4.01s/it]"
     ]
    },
    {
     "name": "stdout",
     "output_type": "stream",
     "text": [
      "{'eval_loss': 0.7444853782653809, 'eval_runtime': 154.7224, 'eval_samples_per_second': 6.34, 'eval_steps_per_second': 6.34, 'epoch': 2.71}\n"
     ]
    },
    {
     "name": "stderr",
     "output_type": "stream",
     "text": [
      " 94%|█████████▍| 13000/13821 [1:05:40<45:10,  3.30s/it]  "
     ]
    },
    {
     "name": "stdout",
     "output_type": "stream",
     "text": [
      "{'loss': 0.663, 'learning_rate': 3.712647420591853e-06, 'epoch': 2.82}\n"
     ]
    },
    {
     "name": "stderr",
     "output_type": "stream",
     "text": [
      "                                                       \n",
      " 94%|█████████▍| 13000/13821 [1:08:18<45:10,  3.30s/it]"
     ]
    },
    {
     "name": "stdout",
     "output_type": "stream",
     "text": [
      "{'eval_loss': 0.7434998750686646, 'eval_runtime': 157.9971, 'eval_samples_per_second': 6.209, 'eval_steps_per_second': 6.209, 'epoch': 2.82}\n"
     ]
    },
    {
     "name": "stderr",
     "output_type": "stream",
     "text": [
      " 98%|█████████▊| 13500/13821 [1:39:30<22:36,  4.23s/it]   "
     ]
    },
    {
     "name": "stdout",
     "output_type": "stream",
     "text": [
      "{'loss': 0.6493, 'learning_rate': 1.4515953983069243e-06, 'epoch': 2.93}\n"
     ]
    },
    {
     "name": "stderr",
     "output_type": "stream",
     "text": [
      "                                                       \n",
      " 98%|█████████▊| 13500/13821 [1:42:08<22:36,  4.23s/it]"
     ]
    },
    {
     "name": "stdout",
     "output_type": "stream",
     "text": [
      "{'eval_loss': 0.7430979609489441, 'eval_runtime': 158.1466, 'eval_samples_per_second': 6.203, 'eval_steps_per_second': 6.203, 'epoch': 2.93}\n"
     ]
    },
    {
     "name": "stderr",
     "output_type": "stream",
     "text": [
      "100%|██████████| 13821/13821 [2:03:42<00:00,  1.86it/s]  "
     ]
    },
    {
     "name": "stdout",
     "output_type": "stream",
     "text": [
      "{'train_runtime': 7422.7047, 'train_samples_per_second': 7.449, 'train_steps_per_second': 1.862, 'train_loss': 0.08617220559053591, 'epoch': 3.0}\n"
     ]
    },
    {
     "name": "stderr",
     "output_type": "stream",
     "text": [
      "\n"
     ]
    },
    {
     "data": {
      "text/plain": [
       "TrainOutput(global_step=13821, training_loss=0.08617220559053591, metrics={'train_runtime': 7422.7047, 'train_samples_per_second': 7.449, 'train_steps_per_second': 1.862, 'train_loss': 0.08617220559053591, 'epoch': 3.0})"
      ]
     },
     "execution_count": 31,
     "metadata": {},
     "output_type": "execute_result"
    }
   ],
   "source": [
    "trainer.train(resume_from_checkpoint=True)"
   ]
  },
  {
   "attachments": {},
   "cell_type": "markdown",
   "metadata": {},
   "source": [
    "Let's test the model on a some sentences of the test set"
   ]
  },
  {
   "cell_type": "code",
   "execution_count": null,
   "metadata": {},
   "outputs": [],
   "source": [
    "GENERATION_LENGTH = 200\n",
    "\n",
    "test_index = [0, 5, 6]\n",
    "\n",
    "outputs = []\n",
    "\n",
    "for i in test_index:\n",
    "    train = train_parsed[i]\n",
    "    split_train = train.split('\\n')\n",
    "    input = '\\n'.join(split_train[:5])\n",
    "    encoded_input = tokenizer.encode(input, return_tensors=\"pt\").to(device)\n",
    "    encoded_output = model.generate(encoded_input, top_k=50, max_length=GENERATION_LENGTH, top_p=0.95, temperature=0.7)\n",
    "    decoded_output = tokenizer.decode(encoded_output[0], skip_special_tokens=True)\n",
    "    output = decoded_output.split('\\n')\n",
    "    topic_output = []\n",
    "    topic_output.append(output[0])\n",
    "    topic_output.append(output[2])\n",
    "    topic_output.append(output[4])\n",
    "    topic_output.append(output[6:8])\n",
    "    outputs.append(topic_output)"
   ]
  },
  {
   "cell_type": "code",
   "execution_count": 67,
   "metadata": {},
   "outputs": [
    {
     "name": "stdout",
     "output_type": "stream",
     "text": [
      "CHOSEN_TOPIC: Science fiction\n",
      "SPEAKER: 0_Wizard\n",
      "TEXT: I think science fiction is an amazing genre for anything. Future science, technology, time travel, FTL travel, they're all such interesting concepts.\n",
      "['SPEAKER: 1_Apprentice', \"TEXT: I agree, I think it's a great idea. I think it's also a great idea to explore the universe.\"]\n",
      "\n",
      "\n",
      "CHOSEN_TOPIC: Romance (love)\n",
      "SPEAKER: 0_Wizard\n",
      "TEXT: I don't know how to be romantic. I have trouble expressing emotional attraction. I'm not very good at it.\n",
      "['SPEAKER: 1_Apprentice', 'TEXT: I have been in a lot of romantic relationships that have ended up poorly. I have been in a lot of romantic relationships that have ended up poorly.']\n",
      "\n",
      "\n",
      "CHOSEN_TOPIC: Krav Maga\n",
      "SPEAKER: 0_Wizard\n",
      "TEXT: Hello. I hope you might enjoy or know something about Krav Maga?\n",
      "['SPEAKER: 1_Apprentice', 'TEXT: I have heard of it. I have heard of it before. I have heard of it before. I have heard of it before. I have heard of it before. I have heard of it before. I have heard of it before. I have heard of it before. I have heard of it before. I have heard of it before. I have heard of it before. I have heard of it before. I have heard of it before. I have heard of it before. I have heard of it before. I have heard of it before. I have heard of it']\n",
      "\n",
      "\n"
     ]
    }
   ],
   "source": [
    "for output in outputs:\n",
    "    for elem in output:\n",
    "        print(elem)\n",
    "    print('\\n')"
   ]
  }
 ],
 "metadata": {
  "kernelspec": {
   "display_name": "base",
   "language": "python",
   "name": "python3"
  },
  "language_info": {
   "codemirror_mode": {
    "name": "ipython",
    "version": 3
   },
   "file_extension": ".py",
   "mimetype": "text/x-python",
   "name": "python",
   "nbconvert_exporter": "python",
   "pygments_lexer": "ipython3",
   "version": "3.10.10"
  },
  "orig_nbformat": 4
 },
 "nbformat": 4,
 "nbformat_minor": 2
}
