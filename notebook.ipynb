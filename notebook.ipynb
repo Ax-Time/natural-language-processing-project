{
 "cells": [
  {
   "cell_type": "code",
   "execution_count": 1,
   "metadata": {},
   "outputs": [],
   "source": [
    "import json\n",
    "\n",
    "data = json.load(open('./wizard_of_wikipedia/data.json'))"
   ]
  },
  {
   "cell_type": "code",
   "execution_count": 2,
   "metadata": {},
   "outputs": [
    {
     "ename": "KeyError",
     "evalue": "'checked_sentence'",
     "output_type": "error",
     "traceback": [
      "\u001b[0;31m---------------------------------------------------------------------------\u001b[0m",
      "\u001b[0;31mKeyError\u001b[0m                                  Traceback (most recent call last)",
      "Cell \u001b[0;32mIn[2], line 1\u001b[0m\n\u001b[0;32m----> 1\u001b[0m dataset_simple \u001b[39m=\u001b[39m [\n\u001b[1;32m      2\u001b[0m     {\n\u001b[1;32m      3\u001b[0m         \u001b[39m'\u001b[39m\u001b[39mtopic\u001b[39m\u001b[39m'\u001b[39m: sample[\u001b[39m'\u001b[39m\u001b[39mchosen_topic\u001b[39m\u001b[39m'\u001b[39m],\n\u001b[1;32m      4\u001b[0m         \u001b[39m'\u001b[39m\u001b[39mdialog\u001b[39m\u001b[39m'\u001b[39m: [\n\u001b[1;32m      5\u001b[0m             {\n\u001b[1;32m      6\u001b[0m                 \u001b[39m'\u001b[39m\u001b[39mspeaker\u001b[39m\u001b[39m'\u001b[39m: turn[\u001b[39m'\u001b[39m\u001b[39mspeaker\u001b[39m\u001b[39m'\u001b[39m],\n\u001b[1;32m      7\u001b[0m                 \u001b[39m'\u001b[39m\u001b[39mtext\u001b[39m\u001b[39m'\u001b[39m: turn[\u001b[39m'\u001b[39m\u001b[39mtext\u001b[39m\u001b[39m'\u001b[39m],\n\u001b[1;32m      8\u001b[0m                 \u001b[39m'\u001b[39m\u001b[39mchosen_passage\u001b[39m\u001b[39m'\u001b[39m: turn[\u001b[39m'\u001b[39m\u001b[39mchecked_sentence\u001b[39m\u001b[39m'\u001b[39m]\n\u001b[1;32m      9\u001b[0m             } \u001b[39mfor\u001b[39;00m turn \u001b[39min\u001b[39;00m sample[\u001b[39m'\u001b[39m\u001b[39mdialog\u001b[39m\u001b[39m'\u001b[39m]\n\u001b[1;32m     10\u001b[0m         ]\n\u001b[1;32m     11\u001b[0m     }\n\u001b[1;32m     12\u001b[0m \u001b[39mfor\u001b[39;00m sample \u001b[39min\u001b[39;00m data]\n",
      "Cell \u001b[0;32mIn[2], line 4\u001b[0m, in \u001b[0;36m<listcomp>\u001b[0;34m(.0)\u001b[0m\n\u001b[1;32m      1\u001b[0m dataset_simple \u001b[39m=\u001b[39m [\n\u001b[1;32m      2\u001b[0m     {\n\u001b[1;32m      3\u001b[0m         \u001b[39m'\u001b[39m\u001b[39mtopic\u001b[39m\u001b[39m'\u001b[39m: sample[\u001b[39m'\u001b[39m\u001b[39mchosen_topic\u001b[39m\u001b[39m'\u001b[39m],\n\u001b[0;32m----> 4\u001b[0m         \u001b[39m'\u001b[39m\u001b[39mdialog\u001b[39m\u001b[39m'\u001b[39m: [\n\u001b[1;32m      5\u001b[0m             {\n\u001b[1;32m      6\u001b[0m                 \u001b[39m'\u001b[39m\u001b[39mspeaker\u001b[39m\u001b[39m'\u001b[39m: turn[\u001b[39m'\u001b[39m\u001b[39mspeaker\u001b[39m\u001b[39m'\u001b[39m],\n\u001b[1;32m      7\u001b[0m                 \u001b[39m'\u001b[39m\u001b[39mtext\u001b[39m\u001b[39m'\u001b[39m: turn[\u001b[39m'\u001b[39m\u001b[39mtext\u001b[39m\u001b[39m'\u001b[39m],\n\u001b[1;32m      8\u001b[0m                 \u001b[39m'\u001b[39m\u001b[39mchosen_passage\u001b[39m\u001b[39m'\u001b[39m: turn[\u001b[39m'\u001b[39m\u001b[39mchecked_sentence\u001b[39m\u001b[39m'\u001b[39m]\n\u001b[1;32m      9\u001b[0m             } \u001b[39mfor\u001b[39;00m turn \u001b[39min\u001b[39;00m sample[\u001b[39m'\u001b[39m\u001b[39mdialog\u001b[39m\u001b[39m'\u001b[39m]\n\u001b[1;32m     10\u001b[0m         ]\n\u001b[1;32m     11\u001b[0m     }\n\u001b[1;32m     12\u001b[0m \u001b[39mfor\u001b[39;00m sample \u001b[39min\u001b[39;00m data]\n",
      "Cell \u001b[0;32mIn[2], line 8\u001b[0m, in \u001b[0;36m<listcomp>\u001b[0;34m(.0)\u001b[0m\n\u001b[1;32m      1\u001b[0m dataset_simple \u001b[39m=\u001b[39m [\n\u001b[1;32m      2\u001b[0m     {\n\u001b[1;32m      3\u001b[0m         \u001b[39m'\u001b[39m\u001b[39mtopic\u001b[39m\u001b[39m'\u001b[39m: sample[\u001b[39m'\u001b[39m\u001b[39mchosen_topic\u001b[39m\u001b[39m'\u001b[39m],\n\u001b[1;32m      4\u001b[0m         \u001b[39m'\u001b[39m\u001b[39mdialog\u001b[39m\u001b[39m'\u001b[39m: [\n\u001b[1;32m      5\u001b[0m             {\n\u001b[1;32m      6\u001b[0m                 \u001b[39m'\u001b[39m\u001b[39mspeaker\u001b[39m\u001b[39m'\u001b[39m: turn[\u001b[39m'\u001b[39m\u001b[39mspeaker\u001b[39m\u001b[39m'\u001b[39m],\n\u001b[1;32m      7\u001b[0m                 \u001b[39m'\u001b[39m\u001b[39mtext\u001b[39m\u001b[39m'\u001b[39m: turn[\u001b[39m'\u001b[39m\u001b[39mtext\u001b[39m\u001b[39m'\u001b[39m],\n\u001b[0;32m----> 8\u001b[0m                 \u001b[39m'\u001b[39m\u001b[39mchosen_passage\u001b[39m\u001b[39m'\u001b[39m: turn[\u001b[39m'\u001b[39;49m\u001b[39mchecked_sentence\u001b[39;49m\u001b[39m'\u001b[39;49m]\n\u001b[1;32m      9\u001b[0m             } \u001b[39mfor\u001b[39;00m turn \u001b[39min\u001b[39;00m sample[\u001b[39m'\u001b[39m\u001b[39mdialog\u001b[39m\u001b[39m'\u001b[39m]\n\u001b[1;32m     10\u001b[0m         ]\n\u001b[1;32m     11\u001b[0m     }\n\u001b[1;32m     12\u001b[0m \u001b[39mfor\u001b[39;00m sample \u001b[39min\u001b[39;00m data]\n",
      "\u001b[0;31mKeyError\u001b[0m: 'checked_sentence'"
     ]
    }
   ],
   "source": [
    "dataset_simple = [\n",
    "    {\n",
    "        'topic': sample['chosen_topic'],\n",
    "        'dialog': [\n",
    "            {\n",
    "                'speaker': turn['speaker'],\n",
    "                'text': turn['text'],\n",
    "                'chosen_passage': turn['checked_sentence']\n",
    "            } for turn in sample['dialog']\n",
    "        ]\n",
    "    }\n",
    "for sample in data]"
   ]
  },
  {
   "cell_type": "code",
   "execution_count": 3,
   "metadata": {},
   "outputs": [
    {
     "ename": "NameError",
     "evalue": "name 'dataset_simple' is not defined",
     "output_type": "error",
     "traceback": [
      "\u001b[0;31m---------------------------------------------------------------------------\u001b[0m",
      "\u001b[0;31mNameError\u001b[0m                                 Traceback (most recent call last)",
      "Cell \u001b[0;32mIn[3], line 1\u001b[0m\n\u001b[0;32m----> 1\u001b[0m dataset_simple[\u001b[39m0\u001b[39m][\u001b[39m'\u001b[39m\u001b[39mdialog\u001b[39m\u001b[39m'\u001b[39m]\n",
      "\u001b[0;31mNameError\u001b[0m: name 'dataset_simple' is not defined"
     ]
    }
   ],
   "source": [
    "dataset_simple[0]['dialog']"
   ]
  },
  {
   "cell_type": "code",
   "execution_count": 15,
   "metadata": {},
   "outputs": [],
   "source": [
    "from transformers import GPTNeoForCausalLM, AutoTokenizer\n",
    "import torch\n",
    "\n",
    "model_name = 'EleutherAI/gpt-neo-125M'\n",
    "# model_name = 'EleutherAI/gpt-neo-1.3B'\n",
    "\n",
    "# Mac users\n",
    "device = torch.device('cpu') # 'mps' is slower lmao\n",
    "\n",
    "tokenizer = AutoTokenizer.from_pretrained(model_name)\n",
    "model = GPTNeoForCausalLM.from_pretrained(model_name).to(device)"
   ]
  },
  {
   "cell_type": "code",
   "execution_count": 17,
   "metadata": {},
   "outputs": [
    {
     "name": "stderr",
     "output_type": "stream",
     "text": [
      "Setting `pad_token_id` to `eos_token_id`:50256 for open-end generation.\n"
     ]
    },
    {
     "name": "stdout",
     "output_type": "stream",
     "text": [
      "Tell me how to climb a mountain?\n",
      "\n",
      "I’m a mountain climber. I’m a mountain climber. I’m a mountain climber. I’m a mountain climber. I’m a mountain climber. I’m a mountain climber. I’m a mountain climber. I’m a mountain climber. I’m a mountain climber. I’m a mountain climber.\n"
     ]
    }
   ],
   "source": [
    "text = 'Tell me how to climb'\n",
    "in_enc = tokenizer(text, return_tensors='pt').to(device)\n",
    "out_enc = model.generate(**in_enc, do_sample=False, temperature=0.8, min_length=50, max_length=100)\n",
    "out = tokenizer.decode(out_enc[0])\n",
    "print(out)"
   ]
  },
  {
   "cell_type": "code",
   "execution_count": 6,
   "metadata": {},
   "outputs": [
    {
     "data": {
      "text/plain": [
       "dict_keys(['speaker', 'text', 'checked_sentence', 'checked_passage', 'retrieved_passages', 'retrieved_topics'])"
      ]
     },
     "execution_count": 6,
     "metadata": {},
     "output_type": "execute_result"
    }
   ],
   "source": [
    "# Training\n",
    "data[0]['dialog'][0].keys()"
   ]
  }
 ],
 "metadata": {
  "kernelspec": {
   "display_name": "base",
   "language": "python",
   "name": "python3"
  },
  "language_info": {
   "codemirror_mode": {
    "name": "ipython",
    "version": 3
   },
   "file_extension": ".py",
   "mimetype": "text/x-python",
   "name": "python",
   "nbconvert_exporter": "python",
   "pygments_lexer": "ipython3",
   "version": "3.10.10"
  },
  "orig_nbformat": 4
 },
 "nbformat": 4,
 "nbformat_minor": 2
}
